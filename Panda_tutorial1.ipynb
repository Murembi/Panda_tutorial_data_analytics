{
  "metadata": {
    "kernelspec": {
      "name": "python",
      "display_name": "Python (Pyodide)",
      "language": "python"
    },
    "language_info": {
      "codemirror_mode": {
        "name": "python",
        "version": 3
      },
      "file_extension": ".py",
      "mimetype": "text/x-python",
      "name": "python",
      "nbconvert_exporter": "python",
      "pygments_lexer": "ipython3",
      "version": "3.8"
    }
  },
  "nbformat_minor": 5,
  "nbformat": 4,
  "cells": [
    {
      "id": "74158822-322a-4274-ad1f-a6793cb65fa0",
      "cell_type": "code",
      "source": "import numpy as np\nimport pandas as pd",
      "metadata": {
        "trusted": true
      },
      "outputs": [],
      "execution_count": 2
    },
    {
      "id": "efad742c-c69d-4a4b-a638-ce1980f98511",
      "cell_type": "code",
      "source": "pd.read_csv('zoo.csv', delimiter = ',')",
      "metadata": {
        "trusted": true
      },
      "outputs": [
        {
          "execution_count": 3,
          "output_type": "execute_result",
          "data": {
            "text/plain": "      animal  uniq_id  water_need\n0   elephant     1001         500\n1   elephant     1002         600\n2   elephant     1003         550\n3      tiger     1004         300\n4      tiger     1005         320\n5      tiger     1006         330\n6      tiger     1007         290\n7      tiger     1008         310\n8      zebra     1009         200\n9      zebra     1010         220\n10     zebra     1011         240\n11     zebra     1012         230\n12     zebra     1013         220\n13     zebra     1014         100\n14     zebra     1015          80\n15      lion     1016         420\n16      lion     1017         600\n17      lion     1018         500\n18      lion     1019         390\n19  kangaroo     1020         410\n20  kangaroo     1021         430\n21  kangaroo     1022         410",
            "text/html": "<div>\n<style scoped>\n    .dataframe tbody tr th:only-of-type {\n        vertical-align: middle;\n    }\n\n    .dataframe tbody tr th {\n        vertical-align: top;\n    }\n\n    .dataframe thead th {\n        text-align: right;\n    }\n</style>\n<table border=\"1\" class=\"dataframe\">\n  <thead>\n    <tr style=\"text-align: right;\">\n      <th></th>\n      <th>animal</th>\n      <th>uniq_id</th>\n      <th>water_need</th>\n    </tr>\n  </thead>\n  <tbody>\n    <tr>\n      <th>0</th>\n      <td>elephant</td>\n      <td>1001</td>\n      <td>500</td>\n    </tr>\n    <tr>\n      <th>1</th>\n      <td>elephant</td>\n      <td>1002</td>\n      <td>600</td>\n    </tr>\n    <tr>\n      <th>2</th>\n      <td>elephant</td>\n      <td>1003</td>\n      <td>550</td>\n    </tr>\n    <tr>\n      <th>3</th>\n      <td>tiger</td>\n      <td>1004</td>\n      <td>300</td>\n    </tr>\n    <tr>\n      <th>4</th>\n      <td>tiger</td>\n      <td>1005</td>\n      <td>320</td>\n    </tr>\n    <tr>\n      <th>5</th>\n      <td>tiger</td>\n      <td>1006</td>\n      <td>330</td>\n    </tr>\n    <tr>\n      <th>6</th>\n      <td>tiger</td>\n      <td>1007</td>\n      <td>290</td>\n    </tr>\n    <tr>\n      <th>7</th>\n      <td>tiger</td>\n      <td>1008</td>\n      <td>310</td>\n    </tr>\n    <tr>\n      <th>8</th>\n      <td>zebra</td>\n      <td>1009</td>\n      <td>200</td>\n    </tr>\n    <tr>\n      <th>9</th>\n      <td>zebra</td>\n      <td>1010</td>\n      <td>220</td>\n    </tr>\n    <tr>\n      <th>10</th>\n      <td>zebra</td>\n      <td>1011</td>\n      <td>240</td>\n    </tr>\n    <tr>\n      <th>11</th>\n      <td>zebra</td>\n      <td>1012</td>\n      <td>230</td>\n    </tr>\n    <tr>\n      <th>12</th>\n      <td>zebra</td>\n      <td>1013</td>\n      <td>220</td>\n    </tr>\n    <tr>\n      <th>13</th>\n      <td>zebra</td>\n      <td>1014</td>\n      <td>100</td>\n    </tr>\n    <tr>\n      <th>14</th>\n      <td>zebra</td>\n      <td>1015</td>\n      <td>80</td>\n    </tr>\n    <tr>\n      <th>15</th>\n      <td>lion</td>\n      <td>1016</td>\n      <td>420</td>\n    </tr>\n    <tr>\n      <th>16</th>\n      <td>lion</td>\n      <td>1017</td>\n      <td>600</td>\n    </tr>\n    <tr>\n      <th>17</th>\n      <td>lion</td>\n      <td>1018</td>\n      <td>500</td>\n    </tr>\n    <tr>\n      <th>18</th>\n      <td>lion</td>\n      <td>1019</td>\n      <td>390</td>\n    </tr>\n    <tr>\n      <th>19</th>\n      <td>kangaroo</td>\n      <td>1020</td>\n      <td>410</td>\n    </tr>\n    <tr>\n      <th>20</th>\n      <td>kangaroo</td>\n      <td>1021</td>\n      <td>430</td>\n    </tr>\n    <tr>\n      <th>21</th>\n      <td>kangaroo</td>\n      <td>1022</td>\n      <td>410</td>\n    </tr>\n  </tbody>\n</table>\n</div>"
          },
          "metadata": {}
        }
      ],
      "execution_count": 3
    },
    {
      "id": "5b337ab2-2f28-428a-88ad-34222e25b961",
      "cell_type": "code",
      "source": "pd.read_csv('pandas_tutorial_read.csv', delimiter=';')",
      "metadata": {
        "trusted": true
      },
      "outputs": [
        {
          "execution_count": 4,
          "output_type": "execute_result",
          "data": {
            "text/plain": "      2018-01-01 00:01:01  read  country_7  2458151261      SEO  North America\n0     2018-01-01 00:03:20  read  country_7  2458151262      SEO  South America\n1     2018-01-01 00:04:01  read  country_7  2458151263  AdWords         Africa\n2     2018-01-01 00:04:02  read  country_7  2458151264  AdWords         Europe\n3     2018-01-01 00:05:03  read  country_8  2458151265   Reddit  North America\n4     2018-01-01 00:05:42  read  country_6  2458151266   Reddit  North America\n...                   ...   ...        ...         ...      ...            ...\n1789  2018-01-01 23:57:14  read  country_2  2458153051  AdWords  North America\n1790  2018-01-01 23:58:33  read  country_8  2458153052      SEO           Asia\n1791  2018-01-01 23:59:36  read  country_6  2458153053   Reddit           Asia\n1792  2018-01-01 23:59:36  read  country_7  2458153054  AdWords         Europe\n1793  2018-01-01 23:59:38  read  country_5  2458153055   Reddit           Asia\n\n[1794 rows x 6 columns]",
            "text/html": "<div>\n<style scoped>\n    .dataframe tbody tr th:only-of-type {\n        vertical-align: middle;\n    }\n\n    .dataframe tbody tr th {\n        vertical-align: top;\n    }\n\n    .dataframe thead th {\n        text-align: right;\n    }\n</style>\n<table border=\"1\" class=\"dataframe\">\n  <thead>\n    <tr style=\"text-align: right;\">\n      <th></th>\n      <th>2018-01-01 00:01:01</th>\n      <th>read</th>\n      <th>country_7</th>\n      <th>2458151261</th>\n      <th>SEO</th>\n      <th>North America</th>\n    </tr>\n  </thead>\n  <tbody>\n    <tr>\n      <th>0</th>\n      <td>2018-01-01 00:03:20</td>\n      <td>read</td>\n      <td>country_7</td>\n      <td>2458151262</td>\n      <td>SEO</td>\n      <td>South America</td>\n    </tr>\n    <tr>\n      <th>1</th>\n      <td>2018-01-01 00:04:01</td>\n      <td>read</td>\n      <td>country_7</td>\n      <td>2458151263</td>\n      <td>AdWords</td>\n      <td>Africa</td>\n    </tr>\n    <tr>\n      <th>2</th>\n      <td>2018-01-01 00:04:02</td>\n      <td>read</td>\n      <td>country_7</td>\n      <td>2458151264</td>\n      <td>AdWords</td>\n      <td>Europe</td>\n    </tr>\n    <tr>\n      <th>3</th>\n      <td>2018-01-01 00:05:03</td>\n      <td>read</td>\n      <td>country_8</td>\n      <td>2458151265</td>\n      <td>Reddit</td>\n      <td>North America</td>\n    </tr>\n    <tr>\n      <th>4</th>\n      <td>2018-01-01 00:05:42</td>\n      <td>read</td>\n      <td>country_6</td>\n      <td>2458151266</td>\n      <td>Reddit</td>\n      <td>North America</td>\n    </tr>\n    <tr>\n      <th>...</th>\n      <td>...</td>\n      <td>...</td>\n      <td>...</td>\n      <td>...</td>\n      <td>...</td>\n      <td>...</td>\n    </tr>\n    <tr>\n      <th>1789</th>\n      <td>2018-01-01 23:57:14</td>\n      <td>read</td>\n      <td>country_2</td>\n      <td>2458153051</td>\n      <td>AdWords</td>\n      <td>North America</td>\n    </tr>\n    <tr>\n      <th>1790</th>\n      <td>2018-01-01 23:58:33</td>\n      <td>read</td>\n      <td>country_8</td>\n      <td>2458153052</td>\n      <td>SEO</td>\n      <td>Asia</td>\n    </tr>\n    <tr>\n      <th>1791</th>\n      <td>2018-01-01 23:59:36</td>\n      <td>read</td>\n      <td>country_6</td>\n      <td>2458153053</td>\n      <td>Reddit</td>\n      <td>Asia</td>\n    </tr>\n    <tr>\n      <th>1792</th>\n      <td>2018-01-01 23:59:36</td>\n      <td>read</td>\n      <td>country_7</td>\n      <td>2458153054</td>\n      <td>AdWords</td>\n      <td>Europe</td>\n    </tr>\n    <tr>\n      <th>1793</th>\n      <td>2018-01-01 23:59:38</td>\n      <td>read</td>\n      <td>country_5</td>\n      <td>2458153055</td>\n      <td>Reddit</td>\n      <td>Asia</td>\n    </tr>\n  </tbody>\n</table>\n<p>1794 rows × 6 columns</p>\n</div>"
          },
          "metadata": {}
        }
      ],
      "execution_count": 4
    },
    {
      "id": "2e18fffa-6240-409d-ae23-16ea8c433aef",
      "cell_type": "code",
      "source": "pd.read_csv('pandas_tutorial_read.csv', delimiter=';', names = ['my_datetime', 'event', 'country', 'user_id', 'source', 'topic'])",
      "metadata": {
        "trusted": true
      },
      "outputs": [
        {
          "execution_count": 5,
          "output_type": "execute_result",
          "data": {
            "text/plain": "              my_datetime event    country     user_id   source          topic\n0     2018-01-01 00:01:01  read  country_7  2458151261      SEO  North America\n1     2018-01-01 00:03:20  read  country_7  2458151262      SEO  South America\n2     2018-01-01 00:04:01  read  country_7  2458151263  AdWords         Africa\n3     2018-01-01 00:04:02  read  country_7  2458151264  AdWords         Europe\n4     2018-01-01 00:05:03  read  country_8  2458151265   Reddit  North America\n...                   ...   ...        ...         ...      ...            ...\n1790  2018-01-01 23:57:14  read  country_2  2458153051  AdWords  North America\n1791  2018-01-01 23:58:33  read  country_8  2458153052      SEO           Asia\n1792  2018-01-01 23:59:36  read  country_6  2458153053   Reddit           Asia\n1793  2018-01-01 23:59:36  read  country_7  2458153054  AdWords         Europe\n1794  2018-01-01 23:59:38  read  country_5  2458153055   Reddit           Asia\n\n[1795 rows x 6 columns]",
            "text/html": "<div>\n<style scoped>\n    .dataframe tbody tr th:only-of-type {\n        vertical-align: middle;\n    }\n\n    .dataframe tbody tr th {\n        vertical-align: top;\n    }\n\n    .dataframe thead th {\n        text-align: right;\n    }\n</style>\n<table border=\"1\" class=\"dataframe\">\n  <thead>\n    <tr style=\"text-align: right;\">\n      <th></th>\n      <th>my_datetime</th>\n      <th>event</th>\n      <th>country</th>\n      <th>user_id</th>\n      <th>source</th>\n      <th>topic</th>\n    </tr>\n  </thead>\n  <tbody>\n    <tr>\n      <th>0</th>\n      <td>2018-01-01 00:01:01</td>\n      <td>read</td>\n      <td>country_7</td>\n      <td>2458151261</td>\n      <td>SEO</td>\n      <td>North America</td>\n    </tr>\n    <tr>\n      <th>1</th>\n      <td>2018-01-01 00:03:20</td>\n      <td>read</td>\n      <td>country_7</td>\n      <td>2458151262</td>\n      <td>SEO</td>\n      <td>South America</td>\n    </tr>\n    <tr>\n      <th>2</th>\n      <td>2018-01-01 00:04:01</td>\n      <td>read</td>\n      <td>country_7</td>\n      <td>2458151263</td>\n      <td>AdWords</td>\n      <td>Africa</td>\n    </tr>\n    <tr>\n      <th>3</th>\n      <td>2018-01-01 00:04:02</td>\n      <td>read</td>\n      <td>country_7</td>\n      <td>2458151264</td>\n      <td>AdWords</td>\n      <td>Europe</td>\n    </tr>\n    <tr>\n      <th>4</th>\n      <td>2018-01-01 00:05:03</td>\n      <td>read</td>\n      <td>country_8</td>\n      <td>2458151265</td>\n      <td>Reddit</td>\n      <td>North America</td>\n    </tr>\n    <tr>\n      <th>...</th>\n      <td>...</td>\n      <td>...</td>\n      <td>...</td>\n      <td>...</td>\n      <td>...</td>\n      <td>...</td>\n    </tr>\n    <tr>\n      <th>1790</th>\n      <td>2018-01-01 23:57:14</td>\n      <td>read</td>\n      <td>country_2</td>\n      <td>2458153051</td>\n      <td>AdWords</td>\n      <td>North America</td>\n    </tr>\n    <tr>\n      <th>1791</th>\n      <td>2018-01-01 23:58:33</td>\n      <td>read</td>\n      <td>country_8</td>\n      <td>2458153052</td>\n      <td>SEO</td>\n      <td>Asia</td>\n    </tr>\n    <tr>\n      <th>1792</th>\n      <td>2018-01-01 23:59:36</td>\n      <td>read</td>\n      <td>country_6</td>\n      <td>2458153053</td>\n      <td>Reddit</td>\n      <td>Asia</td>\n    </tr>\n    <tr>\n      <th>1793</th>\n      <td>2018-01-01 23:59:36</td>\n      <td>read</td>\n      <td>country_7</td>\n      <td>2458153054</td>\n      <td>AdWords</td>\n      <td>Europe</td>\n    </tr>\n    <tr>\n      <th>1794</th>\n      <td>2018-01-01 23:59:38</td>\n      <td>read</td>\n      <td>country_5</td>\n      <td>2458153055</td>\n      <td>Reddit</td>\n      <td>Asia</td>\n    </tr>\n  </tbody>\n</table>\n<p>1795 rows × 6 columns</p>\n</div>"
          },
          "metadata": {}
        }
      ],
      "execution_count": 5
    },
    {
      "id": "a1a0ca23-3555-45d7-99a1-14a46277ea3a",
      "cell_type": "code",
      "source": "article_read = pd.read_csv('pandas_tutorial_read.csv', delimiter=';', \n                           names = ['my_datetime', 'event', 'country', 'user_id', 'source', 'topic'])",
      "metadata": {
        "trusted": true
      },
      "outputs": [],
      "execution_count": 6
    },
    {
      "id": "2383454d-6bb9-4ebb-85c9-bf56fb8d8f2b",
      "cell_type": "code",
      "source": "article_read",
      "metadata": {
        "trusted": true
      },
      "outputs": [
        {
          "execution_count": 7,
          "output_type": "execute_result",
          "data": {
            "text/plain": "              my_datetime event    country     user_id   source          topic\n0     2018-01-01 00:01:01  read  country_7  2458151261      SEO  North America\n1     2018-01-01 00:03:20  read  country_7  2458151262      SEO  South America\n2     2018-01-01 00:04:01  read  country_7  2458151263  AdWords         Africa\n3     2018-01-01 00:04:02  read  country_7  2458151264  AdWords         Europe\n4     2018-01-01 00:05:03  read  country_8  2458151265   Reddit  North America\n...                   ...   ...        ...         ...      ...            ...\n1790  2018-01-01 23:57:14  read  country_2  2458153051  AdWords  North America\n1791  2018-01-01 23:58:33  read  country_8  2458153052      SEO           Asia\n1792  2018-01-01 23:59:36  read  country_6  2458153053   Reddit           Asia\n1793  2018-01-01 23:59:36  read  country_7  2458153054  AdWords         Europe\n1794  2018-01-01 23:59:38  read  country_5  2458153055   Reddit           Asia\n\n[1795 rows x 6 columns]",
            "text/html": "<div>\n<style scoped>\n    .dataframe tbody tr th:only-of-type {\n        vertical-align: middle;\n    }\n\n    .dataframe tbody tr th {\n        vertical-align: top;\n    }\n\n    .dataframe thead th {\n        text-align: right;\n    }\n</style>\n<table border=\"1\" class=\"dataframe\">\n  <thead>\n    <tr style=\"text-align: right;\">\n      <th></th>\n      <th>my_datetime</th>\n      <th>event</th>\n      <th>country</th>\n      <th>user_id</th>\n      <th>source</th>\n      <th>topic</th>\n    </tr>\n  </thead>\n  <tbody>\n    <tr>\n      <th>0</th>\n      <td>2018-01-01 00:01:01</td>\n      <td>read</td>\n      <td>country_7</td>\n      <td>2458151261</td>\n      <td>SEO</td>\n      <td>North America</td>\n    </tr>\n    <tr>\n      <th>1</th>\n      <td>2018-01-01 00:03:20</td>\n      <td>read</td>\n      <td>country_7</td>\n      <td>2458151262</td>\n      <td>SEO</td>\n      <td>South America</td>\n    </tr>\n    <tr>\n      <th>2</th>\n      <td>2018-01-01 00:04:01</td>\n      <td>read</td>\n      <td>country_7</td>\n      <td>2458151263</td>\n      <td>AdWords</td>\n      <td>Africa</td>\n    </tr>\n    <tr>\n      <th>3</th>\n      <td>2018-01-01 00:04:02</td>\n      <td>read</td>\n      <td>country_7</td>\n      <td>2458151264</td>\n      <td>AdWords</td>\n      <td>Europe</td>\n    </tr>\n    <tr>\n      <th>4</th>\n      <td>2018-01-01 00:05:03</td>\n      <td>read</td>\n      <td>country_8</td>\n      <td>2458151265</td>\n      <td>Reddit</td>\n      <td>North America</td>\n    </tr>\n    <tr>\n      <th>...</th>\n      <td>...</td>\n      <td>...</td>\n      <td>...</td>\n      <td>...</td>\n      <td>...</td>\n      <td>...</td>\n    </tr>\n    <tr>\n      <th>1790</th>\n      <td>2018-01-01 23:57:14</td>\n      <td>read</td>\n      <td>country_2</td>\n      <td>2458153051</td>\n      <td>AdWords</td>\n      <td>North America</td>\n    </tr>\n    <tr>\n      <th>1791</th>\n      <td>2018-01-01 23:58:33</td>\n      <td>read</td>\n      <td>country_8</td>\n      <td>2458153052</td>\n      <td>SEO</td>\n      <td>Asia</td>\n    </tr>\n    <tr>\n      <th>1792</th>\n      <td>2018-01-01 23:59:36</td>\n      <td>read</td>\n      <td>country_6</td>\n      <td>2458153053</td>\n      <td>Reddit</td>\n      <td>Asia</td>\n    </tr>\n    <tr>\n      <th>1793</th>\n      <td>2018-01-01 23:59:36</td>\n      <td>read</td>\n      <td>country_7</td>\n      <td>2458153054</td>\n      <td>AdWords</td>\n      <td>Europe</td>\n    </tr>\n    <tr>\n      <th>1794</th>\n      <td>2018-01-01 23:59:38</td>\n      <td>read</td>\n      <td>country_5</td>\n      <td>2458153055</td>\n      <td>Reddit</td>\n      <td>Asia</td>\n    </tr>\n  </tbody>\n</table>\n<p>1795 rows × 6 columns</p>\n</div>"
          },
          "metadata": {}
        }
      ],
      "execution_count": 7
    },
    {
      "id": "a4aea312-64ed-4a40-8bef-57c7fb899ebd",
      "cell_type": "code",
      "source": "article_read.head()",
      "metadata": {
        "trusted": true
      },
      "outputs": [
        {
          "execution_count": 8,
          "output_type": "execute_result",
          "data": {
            "text/plain": "           my_datetime event    country     user_id   source          topic\n0  2018-01-01 00:01:01  read  country_7  2458151261      SEO  North America\n1  2018-01-01 00:03:20  read  country_7  2458151262      SEO  South America\n2  2018-01-01 00:04:01  read  country_7  2458151263  AdWords         Africa\n3  2018-01-01 00:04:02  read  country_7  2458151264  AdWords         Europe\n4  2018-01-01 00:05:03  read  country_8  2458151265   Reddit  North America",
            "text/html": "<div>\n<style scoped>\n    .dataframe tbody tr th:only-of-type {\n        vertical-align: middle;\n    }\n\n    .dataframe tbody tr th {\n        vertical-align: top;\n    }\n\n    .dataframe thead th {\n        text-align: right;\n    }\n</style>\n<table border=\"1\" class=\"dataframe\">\n  <thead>\n    <tr style=\"text-align: right;\">\n      <th></th>\n      <th>my_datetime</th>\n      <th>event</th>\n      <th>country</th>\n      <th>user_id</th>\n      <th>source</th>\n      <th>topic</th>\n    </tr>\n  </thead>\n  <tbody>\n    <tr>\n      <th>0</th>\n      <td>2018-01-01 00:01:01</td>\n      <td>read</td>\n      <td>country_7</td>\n      <td>2458151261</td>\n      <td>SEO</td>\n      <td>North America</td>\n    </tr>\n    <tr>\n      <th>1</th>\n      <td>2018-01-01 00:03:20</td>\n      <td>read</td>\n      <td>country_7</td>\n      <td>2458151262</td>\n      <td>SEO</td>\n      <td>South America</td>\n    </tr>\n    <tr>\n      <th>2</th>\n      <td>2018-01-01 00:04:01</td>\n      <td>read</td>\n      <td>country_7</td>\n      <td>2458151263</td>\n      <td>AdWords</td>\n      <td>Africa</td>\n    </tr>\n    <tr>\n      <th>3</th>\n      <td>2018-01-01 00:04:02</td>\n      <td>read</td>\n      <td>country_7</td>\n      <td>2458151264</td>\n      <td>AdWords</td>\n      <td>Europe</td>\n    </tr>\n    <tr>\n      <th>4</th>\n      <td>2018-01-01 00:05:03</td>\n      <td>read</td>\n      <td>country_8</td>\n      <td>2458151265</td>\n      <td>Reddit</td>\n      <td>North America</td>\n    </tr>\n  </tbody>\n</table>\n</div>"
          },
          "metadata": {}
        }
      ],
      "execution_count": 8
    },
    {
      "id": "72bf39db-21dd-494f-9d9d-0b8abcacde25",
      "cell_type": "code",
      "source": "article_read.tail()",
      "metadata": {
        "trusted": true
      },
      "outputs": [
        {
          "execution_count": 9,
          "output_type": "execute_result",
          "data": {
            "text/plain": "              my_datetime event    country     user_id   source          topic\n1790  2018-01-01 23:57:14  read  country_2  2458153051  AdWords  North America\n1791  2018-01-01 23:58:33  read  country_8  2458153052      SEO           Asia\n1792  2018-01-01 23:59:36  read  country_6  2458153053   Reddit           Asia\n1793  2018-01-01 23:59:36  read  country_7  2458153054  AdWords         Europe\n1794  2018-01-01 23:59:38  read  country_5  2458153055   Reddit           Asia",
            "text/html": "<div>\n<style scoped>\n    .dataframe tbody tr th:only-of-type {\n        vertical-align: middle;\n    }\n\n    .dataframe tbody tr th {\n        vertical-align: top;\n    }\n\n    .dataframe thead th {\n        text-align: right;\n    }\n</style>\n<table border=\"1\" class=\"dataframe\">\n  <thead>\n    <tr style=\"text-align: right;\">\n      <th></th>\n      <th>my_datetime</th>\n      <th>event</th>\n      <th>country</th>\n      <th>user_id</th>\n      <th>source</th>\n      <th>topic</th>\n    </tr>\n  </thead>\n  <tbody>\n    <tr>\n      <th>1790</th>\n      <td>2018-01-01 23:57:14</td>\n      <td>read</td>\n      <td>country_2</td>\n      <td>2458153051</td>\n      <td>AdWords</td>\n      <td>North America</td>\n    </tr>\n    <tr>\n      <th>1791</th>\n      <td>2018-01-01 23:58:33</td>\n      <td>read</td>\n      <td>country_8</td>\n      <td>2458153052</td>\n      <td>SEO</td>\n      <td>Asia</td>\n    </tr>\n    <tr>\n      <th>1792</th>\n      <td>2018-01-01 23:59:36</td>\n      <td>read</td>\n      <td>country_6</td>\n      <td>2458153053</td>\n      <td>Reddit</td>\n      <td>Asia</td>\n    </tr>\n    <tr>\n      <th>1793</th>\n      <td>2018-01-01 23:59:36</td>\n      <td>read</td>\n      <td>country_7</td>\n      <td>2458153054</td>\n      <td>AdWords</td>\n      <td>Europe</td>\n    </tr>\n    <tr>\n      <th>1794</th>\n      <td>2018-01-01 23:59:38</td>\n      <td>read</td>\n      <td>country_5</td>\n      <td>2458153055</td>\n      <td>Reddit</td>\n      <td>Asia</td>\n    </tr>\n  </tbody>\n</table>\n</div>"
          },
          "metadata": {}
        }
      ],
      "execution_count": 9
    },
    {
      "id": "ea845cfa-195b-4bcd-9899-3797eeedff9f",
      "cell_type": "code",
      "source": "article_read.sample(6)",
      "metadata": {
        "trusted": true
      },
      "outputs": [
        {
          "execution_count": 10,
          "output_type": "execute_result",
          "data": {
            "text/plain": "              my_datetime event    country     user_id   source   topic\n623   2018-01-01 08:26:28  read  country_5  2458151884  AdWords  Europe\n1135  2018-01-01 15:11:50  read  country_2  2458152396  AdWords  Europe\n916   2018-01-01 12:15:16  read  country_7  2458152177   Reddit  Europe\n997   2018-01-01 13:27:45  read  country_6  2458152258   Reddit    Asia\n1071  2018-01-01 14:28:27  read  country_5  2458152332   Reddit    Asia\n979   2018-01-01 13:06:48  read  country_5  2458152240   Reddit    Asia",
            "text/html": "<div>\n<style scoped>\n    .dataframe tbody tr th:only-of-type {\n        vertical-align: middle;\n    }\n\n    .dataframe tbody tr th {\n        vertical-align: top;\n    }\n\n    .dataframe thead th {\n        text-align: right;\n    }\n</style>\n<table border=\"1\" class=\"dataframe\">\n  <thead>\n    <tr style=\"text-align: right;\">\n      <th></th>\n      <th>my_datetime</th>\n      <th>event</th>\n      <th>country</th>\n      <th>user_id</th>\n      <th>source</th>\n      <th>topic</th>\n    </tr>\n  </thead>\n  <tbody>\n    <tr>\n      <th>623</th>\n      <td>2018-01-01 08:26:28</td>\n      <td>read</td>\n      <td>country_5</td>\n      <td>2458151884</td>\n      <td>AdWords</td>\n      <td>Europe</td>\n    </tr>\n    <tr>\n      <th>1135</th>\n      <td>2018-01-01 15:11:50</td>\n      <td>read</td>\n      <td>country_2</td>\n      <td>2458152396</td>\n      <td>AdWords</td>\n      <td>Europe</td>\n    </tr>\n    <tr>\n      <th>916</th>\n      <td>2018-01-01 12:15:16</td>\n      <td>read</td>\n      <td>country_7</td>\n      <td>2458152177</td>\n      <td>Reddit</td>\n      <td>Europe</td>\n    </tr>\n    <tr>\n      <th>997</th>\n      <td>2018-01-01 13:27:45</td>\n      <td>read</td>\n      <td>country_6</td>\n      <td>2458152258</td>\n      <td>Reddit</td>\n      <td>Asia</td>\n    </tr>\n    <tr>\n      <th>1071</th>\n      <td>2018-01-01 14:28:27</td>\n      <td>read</td>\n      <td>country_5</td>\n      <td>2458152332</td>\n      <td>Reddit</td>\n      <td>Asia</td>\n    </tr>\n    <tr>\n      <th>979</th>\n      <td>2018-01-01 13:06:48</td>\n      <td>read</td>\n      <td>country_5</td>\n      <td>2458152240</td>\n      <td>Reddit</td>\n      <td>Asia</td>\n    </tr>\n  </tbody>\n</table>\n</div>"
          },
          "metadata": {}
        }
      ],
      "execution_count": 10
    },
    {
      "id": "5339d58e-33a2-4488-9c72-abbee61749e9",
      "cell_type": "code",
      "source": "article_read[['user_id', 'country']]",
      "metadata": {
        "trusted": true
      },
      "outputs": [
        {
          "execution_count": 11,
          "output_type": "execute_result",
          "data": {
            "text/plain": "         user_id    country\n0     2458151261  country_7\n1     2458151262  country_7\n2     2458151263  country_7\n3     2458151264  country_7\n4     2458151265  country_8\n...          ...        ...\n1790  2458153051  country_2\n1791  2458153052  country_8\n1792  2458153053  country_6\n1793  2458153054  country_7\n1794  2458153055  country_5\n\n[1795 rows x 2 columns]",
            "text/html": "<div>\n<style scoped>\n    .dataframe tbody tr th:only-of-type {\n        vertical-align: middle;\n    }\n\n    .dataframe tbody tr th {\n        vertical-align: top;\n    }\n\n    .dataframe thead th {\n        text-align: right;\n    }\n</style>\n<table border=\"1\" class=\"dataframe\">\n  <thead>\n    <tr style=\"text-align: right;\">\n      <th></th>\n      <th>user_id</th>\n      <th>country</th>\n    </tr>\n  </thead>\n  <tbody>\n    <tr>\n      <th>0</th>\n      <td>2458151261</td>\n      <td>country_7</td>\n    </tr>\n    <tr>\n      <th>1</th>\n      <td>2458151262</td>\n      <td>country_7</td>\n    </tr>\n    <tr>\n      <th>2</th>\n      <td>2458151263</td>\n      <td>country_7</td>\n    </tr>\n    <tr>\n      <th>3</th>\n      <td>2458151264</td>\n      <td>country_7</td>\n    </tr>\n    <tr>\n      <th>4</th>\n      <td>2458151265</td>\n      <td>country_8</td>\n    </tr>\n    <tr>\n      <th>...</th>\n      <td>...</td>\n      <td>...</td>\n    </tr>\n    <tr>\n      <th>1790</th>\n      <td>2458153051</td>\n      <td>country_2</td>\n    </tr>\n    <tr>\n      <th>1791</th>\n      <td>2458153052</td>\n      <td>country_8</td>\n    </tr>\n    <tr>\n      <th>1792</th>\n      <td>2458153053</td>\n      <td>country_6</td>\n    </tr>\n    <tr>\n      <th>1793</th>\n      <td>2458153054</td>\n      <td>country_7</td>\n    </tr>\n    <tr>\n      <th>1794</th>\n      <td>2458153055</td>\n      <td>country_5</td>\n    </tr>\n  </tbody>\n</table>\n<p>1795 rows × 2 columns</p>\n</div>"
          },
          "metadata": {}
        }
      ],
      "execution_count": 11
    },
    {
      "id": "f8166665-b8ab-4c51-90be-24f30c68258e",
      "cell_type": "code",
      "source": "article_read['user_id']",
      "metadata": {
        "trusted": true
      },
      "outputs": [
        {
          "execution_count": 12,
          "output_type": "execute_result",
          "data": {
            "text/plain": "0       2458151261\n1       2458151262\n2       2458151263\n3       2458151264\n4       2458151265\n           ...    \n1790    2458153051\n1791    2458153052\n1792    2458153053\n1793    2458153054\n1794    2458153055\nName: user_id, Length: 1795, dtype: int64"
          },
          "metadata": {}
        }
      ],
      "execution_count": 12
    },
    {
      "id": "ce443818-03b1-48ff-abd7-7ba06c127a2a",
      "cell_type": "code",
      "source": "article_read[article_read.source == 'SEO']",
      "metadata": {
        "trusted": true
      },
      "outputs": [
        {
          "execution_count": 13,
          "output_type": "execute_result",
          "data": {
            "text/plain": "              my_datetime event    country     user_id source          topic\n0     2018-01-01 00:01:01  read  country_7  2458151261    SEO  North America\n1     2018-01-01 00:03:20  read  country_7  2458151262    SEO  South America\n11    2018-01-01 00:08:57  read  country_7  2458151272    SEO      Australia\n15    2018-01-01 00:11:22  read  country_7  2458151276    SEO  North America\n16    2018-01-01 00:13:05  read  country_8  2458151277    SEO  North America\n...                   ...   ...        ...         ...    ...            ...\n1772  2018-01-01 23:45:58  read  country_7  2458153033    SEO  South America\n1777  2018-01-01 23:49:52  read  country_5  2458153038    SEO  North America\n1779  2018-01-01 23:51:25  read  country_4  2458153040    SEO  South America\n1784  2018-01-01 23:54:03  read  country_2  2458153045    SEO  North America\n1791  2018-01-01 23:58:33  read  country_8  2458153052    SEO           Asia\n\n[346 rows x 6 columns]",
            "text/html": "<div>\n<style scoped>\n    .dataframe tbody tr th:only-of-type {\n        vertical-align: middle;\n    }\n\n    .dataframe tbody tr th {\n        vertical-align: top;\n    }\n\n    .dataframe thead th {\n        text-align: right;\n    }\n</style>\n<table border=\"1\" class=\"dataframe\">\n  <thead>\n    <tr style=\"text-align: right;\">\n      <th></th>\n      <th>my_datetime</th>\n      <th>event</th>\n      <th>country</th>\n      <th>user_id</th>\n      <th>source</th>\n      <th>topic</th>\n    </tr>\n  </thead>\n  <tbody>\n    <tr>\n      <th>0</th>\n      <td>2018-01-01 00:01:01</td>\n      <td>read</td>\n      <td>country_7</td>\n      <td>2458151261</td>\n      <td>SEO</td>\n      <td>North America</td>\n    </tr>\n    <tr>\n      <th>1</th>\n      <td>2018-01-01 00:03:20</td>\n      <td>read</td>\n      <td>country_7</td>\n      <td>2458151262</td>\n      <td>SEO</td>\n      <td>South America</td>\n    </tr>\n    <tr>\n      <th>11</th>\n      <td>2018-01-01 00:08:57</td>\n      <td>read</td>\n      <td>country_7</td>\n      <td>2458151272</td>\n      <td>SEO</td>\n      <td>Australia</td>\n    </tr>\n    <tr>\n      <th>15</th>\n      <td>2018-01-01 00:11:22</td>\n      <td>read</td>\n      <td>country_7</td>\n      <td>2458151276</td>\n      <td>SEO</td>\n      <td>North America</td>\n    </tr>\n    <tr>\n      <th>16</th>\n      <td>2018-01-01 00:13:05</td>\n      <td>read</td>\n      <td>country_8</td>\n      <td>2458151277</td>\n      <td>SEO</td>\n      <td>North America</td>\n    </tr>\n    <tr>\n      <th>...</th>\n      <td>...</td>\n      <td>...</td>\n      <td>...</td>\n      <td>...</td>\n      <td>...</td>\n      <td>...</td>\n    </tr>\n    <tr>\n      <th>1772</th>\n      <td>2018-01-01 23:45:58</td>\n      <td>read</td>\n      <td>country_7</td>\n      <td>2458153033</td>\n      <td>SEO</td>\n      <td>South America</td>\n    </tr>\n    <tr>\n      <th>1777</th>\n      <td>2018-01-01 23:49:52</td>\n      <td>read</td>\n      <td>country_5</td>\n      <td>2458153038</td>\n      <td>SEO</td>\n      <td>North America</td>\n    </tr>\n    <tr>\n      <th>1779</th>\n      <td>2018-01-01 23:51:25</td>\n      <td>read</td>\n      <td>country_4</td>\n      <td>2458153040</td>\n      <td>SEO</td>\n      <td>South America</td>\n    </tr>\n    <tr>\n      <th>1784</th>\n      <td>2018-01-01 23:54:03</td>\n      <td>read</td>\n      <td>country_2</td>\n      <td>2458153045</td>\n      <td>SEO</td>\n      <td>North America</td>\n    </tr>\n    <tr>\n      <th>1791</th>\n      <td>2018-01-01 23:58:33</td>\n      <td>read</td>\n      <td>country_8</td>\n      <td>2458153052</td>\n      <td>SEO</td>\n      <td>Asia</td>\n    </tr>\n  </tbody>\n</table>\n<p>346 rows × 6 columns</p>\n</div>"
          },
          "metadata": {}
        }
      ],
      "execution_count": 13
    },
    {
      "id": "cd32b464-974a-4f1d-93c2-ba52010ab30e",
      "cell_type": "code",
      "source": "article_read.head()[['country', 'user_id']]",
      "metadata": {
        "trusted": true
      },
      "outputs": [
        {
          "execution_count": 14,
          "output_type": "execute_result",
          "data": {
            "text/plain": "     country     user_id\n0  country_7  2458151261\n1  country_7  2458151262\n2  country_7  2458151263\n3  country_7  2458151264\n4  country_8  2458151265",
            "text/html": "<div>\n<style scoped>\n    .dataframe tbody tr th:only-of-type {\n        vertical-align: middle;\n    }\n\n    .dataframe tbody tr th {\n        vertical-align: top;\n    }\n\n    .dataframe thead th {\n        text-align: right;\n    }\n</style>\n<table border=\"1\" class=\"dataframe\">\n  <thead>\n    <tr style=\"text-align: right;\">\n      <th></th>\n      <th>country</th>\n      <th>user_id</th>\n    </tr>\n  </thead>\n  <tbody>\n    <tr>\n      <th>0</th>\n      <td>country_7</td>\n      <td>2458151261</td>\n    </tr>\n    <tr>\n      <th>1</th>\n      <td>country_7</td>\n      <td>2458151262</td>\n    </tr>\n    <tr>\n      <th>2</th>\n      <td>country_7</td>\n      <td>2458151263</td>\n    </tr>\n    <tr>\n      <th>3</th>\n      <td>country_7</td>\n      <td>2458151264</td>\n    </tr>\n    <tr>\n      <th>4</th>\n      <td>country_8</td>\n      <td>2458151265</td>\n    </tr>\n  </tbody>\n</table>\n</div>"
          },
          "metadata": {}
        }
      ],
      "execution_count": 14
    },
    {
      "id": "0df07dbd-febe-417c-b6e6-bfaae814b8c8",
      "cell_type": "code",
      "source": "article_read[article_read.country == 'country_2'][['user_id','topic', 'country']].head()",
      "metadata": {
        "trusted": true
      },
      "outputs": [
        {
          "execution_count": 16,
          "output_type": "execute_result",
          "data": {
            "text/plain": "       user_id   topic    country\n6   2458151267  Europe  country_2\n13  2458151274  Europe  country_2\n17  2458151278    Asia  country_2\n19  2458151280    Asia  country_2\n20  2458151281    Asia  country_2",
            "text/html": "<div>\n<style scoped>\n    .dataframe tbody tr th:only-of-type {\n        vertical-align: middle;\n    }\n\n    .dataframe tbody tr th {\n        vertical-align: top;\n    }\n\n    .dataframe thead th {\n        text-align: right;\n    }\n</style>\n<table border=\"1\" class=\"dataframe\">\n  <thead>\n    <tr style=\"text-align: right;\">\n      <th></th>\n      <th>user_id</th>\n      <th>topic</th>\n      <th>country</th>\n    </tr>\n  </thead>\n  <tbody>\n    <tr>\n      <th>6</th>\n      <td>2458151267</td>\n      <td>Europe</td>\n      <td>country_2</td>\n    </tr>\n    <tr>\n      <th>13</th>\n      <td>2458151274</td>\n      <td>Europe</td>\n      <td>country_2</td>\n    </tr>\n    <tr>\n      <th>17</th>\n      <td>2458151278</td>\n      <td>Asia</td>\n      <td>country_2</td>\n    </tr>\n    <tr>\n      <th>19</th>\n      <td>2458151280</td>\n      <td>Asia</td>\n      <td>country_2</td>\n    </tr>\n    <tr>\n      <th>20</th>\n      <td>2458151281</td>\n      <td>Asia</td>\n      <td>country_2</td>\n    </tr>\n  </tbody>\n</table>\n</div>"
          },
          "metadata": {}
        }
      ],
      "execution_count": 16
    },
    {
      "id": "057c70b8-8e77-4ca2-a077-01e62a73624d",
      "cell_type": "code",
      "source": "pd.read_csv('zoo.csv', delimiter = ',')",
      "metadata": {
        "trusted": true
      },
      "outputs": [
        {
          "execution_count": 17,
          "output_type": "execute_result",
          "data": {
            "text/plain": "      animal  uniq_id  water_need\n0   elephant     1001         500\n1   elephant     1002         600\n2   elephant     1003         550\n3      tiger     1004         300\n4      tiger     1005         320\n5      tiger     1006         330\n6      tiger     1007         290\n7      tiger     1008         310\n8      zebra     1009         200\n9      zebra     1010         220\n10     zebra     1011         240\n11     zebra     1012         230\n12     zebra     1013         220\n13     zebra     1014         100\n14     zebra     1015          80\n15      lion     1016         420\n16      lion     1017         600\n17      lion     1018         500\n18      lion     1019         390\n19  kangaroo     1020         410\n20  kangaroo     1021         430\n21  kangaroo     1022         410",
            "text/html": "<div>\n<style scoped>\n    .dataframe tbody tr th:only-of-type {\n        vertical-align: middle;\n    }\n\n    .dataframe tbody tr th {\n        vertical-align: top;\n    }\n\n    .dataframe thead th {\n        text-align: right;\n    }\n</style>\n<table border=\"1\" class=\"dataframe\">\n  <thead>\n    <tr style=\"text-align: right;\">\n      <th></th>\n      <th>animal</th>\n      <th>uniq_id</th>\n      <th>water_need</th>\n    </tr>\n  </thead>\n  <tbody>\n    <tr>\n      <th>0</th>\n      <td>elephant</td>\n      <td>1001</td>\n      <td>500</td>\n    </tr>\n    <tr>\n      <th>1</th>\n      <td>elephant</td>\n      <td>1002</td>\n      <td>600</td>\n    </tr>\n    <tr>\n      <th>2</th>\n      <td>elephant</td>\n      <td>1003</td>\n      <td>550</td>\n    </tr>\n    <tr>\n      <th>3</th>\n      <td>tiger</td>\n      <td>1004</td>\n      <td>300</td>\n    </tr>\n    <tr>\n      <th>4</th>\n      <td>tiger</td>\n      <td>1005</td>\n      <td>320</td>\n    </tr>\n    <tr>\n      <th>5</th>\n      <td>tiger</td>\n      <td>1006</td>\n      <td>330</td>\n    </tr>\n    <tr>\n      <th>6</th>\n      <td>tiger</td>\n      <td>1007</td>\n      <td>290</td>\n    </tr>\n    <tr>\n      <th>7</th>\n      <td>tiger</td>\n      <td>1008</td>\n      <td>310</td>\n    </tr>\n    <tr>\n      <th>8</th>\n      <td>zebra</td>\n      <td>1009</td>\n      <td>200</td>\n    </tr>\n    <tr>\n      <th>9</th>\n      <td>zebra</td>\n      <td>1010</td>\n      <td>220</td>\n    </tr>\n    <tr>\n      <th>10</th>\n      <td>zebra</td>\n      <td>1011</td>\n      <td>240</td>\n    </tr>\n    <tr>\n      <th>11</th>\n      <td>zebra</td>\n      <td>1012</td>\n      <td>230</td>\n    </tr>\n    <tr>\n      <th>12</th>\n      <td>zebra</td>\n      <td>1013</td>\n      <td>220</td>\n    </tr>\n    <tr>\n      <th>13</th>\n      <td>zebra</td>\n      <td>1014</td>\n      <td>100</td>\n    </tr>\n    <tr>\n      <th>14</th>\n      <td>zebra</td>\n      <td>1015</td>\n      <td>80</td>\n    </tr>\n    <tr>\n      <th>15</th>\n      <td>lion</td>\n      <td>1016</td>\n      <td>420</td>\n    </tr>\n    <tr>\n      <th>16</th>\n      <td>lion</td>\n      <td>1017</td>\n      <td>600</td>\n    </tr>\n    <tr>\n      <th>17</th>\n      <td>lion</td>\n      <td>1018</td>\n      <td>500</td>\n    </tr>\n    <tr>\n      <th>18</th>\n      <td>lion</td>\n      <td>1019</td>\n      <td>390</td>\n    </tr>\n    <tr>\n      <th>19</th>\n      <td>kangaroo</td>\n      <td>1020</td>\n      <td>410</td>\n    </tr>\n    <tr>\n      <th>20</th>\n      <td>kangaroo</td>\n      <td>1021</td>\n      <td>430</td>\n    </tr>\n    <tr>\n      <th>21</th>\n      <td>kangaroo</td>\n      <td>1022</td>\n      <td>410</td>\n    </tr>\n  </tbody>\n</table>\n</div>"
          },
          "metadata": {}
        }
      ],
      "execution_count": 17
    },
    {
      "id": "295cc072-e985-4583-9232-ecc82ddcfa2e",
      "cell_type": "code",
      "source": "zoo = pd.read_csv('zoo.csv', delimiter = ',')",
      "metadata": {
        "trusted": true
      },
      "outputs": [],
      "execution_count": 18
    },
    {
      "id": "0717a7b7-53c7-4ce2-aafb-80fa73621a71",
      "cell_type": "code",
      "source": "zoo.count()",
      "metadata": {
        "trusted": true
      },
      "outputs": [
        {
          "execution_count": 19,
          "output_type": "execute_result",
          "data": {
            "text/plain": "animal        22\nuniq_id       22\nwater_need    22\ndtype: int64"
          },
          "metadata": {}
        }
      ],
      "execution_count": 19
    },
    {
      "id": "9031d574-3af5-4f76-ac51-0a003beb632f",
      "cell_type": "code",
      "source": "zoo[['animal']].count()",
      "metadata": {
        "trusted": true
      },
      "outputs": [
        {
          "execution_count": 20,
          "output_type": "execute_result",
          "data": {
            "text/plain": "animal    22\ndtype: int64"
          },
          "metadata": {}
        }
      ],
      "execution_count": 20
    },
    {
      "id": "a50918a9-91e5-413d-b408-e0a1e802ecdb",
      "cell_type": "code",
      "source": "zoo.water_need.sum()",
      "metadata": {
        "trusted": true
      },
      "outputs": [
        {
          "execution_count": 21,
          "output_type": "execute_result",
          "data": {
            "text/plain": "np.int64(7650)"
          },
          "metadata": {}
        }
      ],
      "execution_count": 21
    },
    {
      "id": "2a406df9-887d-455a-8d8e-ddee4df618b5",
      "cell_type": "code",
      "source": "zoo.sum()",
      "metadata": {
        "trusted": true
      },
      "outputs": [
        {
          "execution_count": 22,
          "output_type": "execute_result",
          "data": {
            "text/plain": "animal        elephantelephantelephanttigertigertigertigerti...\nuniq_id                                                   22253\nwater_need                                                 7650\ndtype: object"
          },
          "metadata": {}
        }
      ],
      "execution_count": 22
    },
    {
      "id": "44e39a62-5133-4830-9f60-e9c254f5635f",
      "cell_type": "code",
      "source": "zoo.water_need.min()",
      "metadata": {
        "trusted": true
      },
      "outputs": [
        {
          "execution_count": 23,
          "output_type": "execute_result",
          "data": {
            "text/plain": "np.int64(80)"
          },
          "metadata": {}
        }
      ],
      "execution_count": 23
    },
    {
      "id": "78f7a8af-fff0-4477-992b-7be995f1589b",
      "cell_type": "code",
      "source": "zoo.water_need.max()",
      "metadata": {
        "trusted": true
      },
      "outputs": [
        {
          "execution_count": 24,
          "output_type": "execute_result",
          "data": {
            "text/plain": "np.int64(600)"
          },
          "metadata": {}
        }
      ],
      "execution_count": 24
    },
    {
      "id": "520f58a9-0246-47e2-b2d0-f7f7a590045c",
      "cell_type": "code",
      "source": "zoo.water_need.mean()",
      "metadata": {
        "trusted": true
      },
      "outputs": [
        {
          "execution_count": 25,
          "output_type": "execute_result",
          "data": {
            "text/plain": "np.float64(347.72727272727275)"
          },
          "metadata": {}
        }
      ],
      "execution_count": 25
    },
    {
      "id": "7005965a-7bc5-47e5-b112-7a893eb82e65",
      "cell_type": "code",
      "source": "zoo.water_need.median()",
      "metadata": {
        "trusted": true
      },
      "outputs": [
        {
          "execution_count": 26,
          "output_type": "execute_result",
          "data": {
            "text/plain": "np.float64(325.0)"
          },
          "metadata": {}
        }
      ],
      "execution_count": 26
    },
    {
      "id": "c181b327-2639-4310-9fa8-acf0e8faf240",
      "cell_type": "code",
      "source": "zoo.groupby('animal').mean()",
      "metadata": {
        "trusted": true
      },
      "outputs": [
        {
          "execution_count": 27,
          "output_type": "execute_result",
          "data": {
            "text/plain": "          uniq_id  water_need\nanimal                       \nelephant   1002.0  550.000000\nkangaroo   1021.0  416.666667\nlion       1017.5  477.500000\ntiger      1006.0  310.000000\nzebra      1012.0  184.285714",
            "text/html": "<div>\n<style scoped>\n    .dataframe tbody tr th:only-of-type {\n        vertical-align: middle;\n    }\n\n    .dataframe tbody tr th {\n        vertical-align: top;\n    }\n\n    .dataframe thead th {\n        text-align: right;\n    }\n</style>\n<table border=\"1\" class=\"dataframe\">\n  <thead>\n    <tr style=\"text-align: right;\">\n      <th></th>\n      <th>uniq_id</th>\n      <th>water_need</th>\n    </tr>\n    <tr>\n      <th>animal</th>\n      <th></th>\n      <th></th>\n    </tr>\n  </thead>\n  <tbody>\n    <tr>\n      <th>elephant</th>\n      <td>1002.0</td>\n      <td>550.000000</td>\n    </tr>\n    <tr>\n      <th>kangaroo</th>\n      <td>1021.0</td>\n      <td>416.666667</td>\n    </tr>\n    <tr>\n      <th>lion</th>\n      <td>1017.5</td>\n      <td>477.500000</td>\n    </tr>\n    <tr>\n      <th>tiger</th>\n      <td>1006.0</td>\n      <td>310.000000</td>\n    </tr>\n    <tr>\n      <th>zebra</th>\n      <td>1012.0</td>\n      <td>184.285714</td>\n    </tr>\n  </tbody>\n</table>\n</div>"
          },
          "metadata": {}
        }
      ],
      "execution_count": 27
    },
    {
      "id": "a685bdf2-4c8b-4800-a107-3b98defd1d18",
      "cell_type": "code",
      "source": "zoo.groupby('animal').mean()[['water_need']]",
      "metadata": {
        "trusted": true
      },
      "outputs": [
        {
          "execution_count": 28,
          "output_type": "execute_result",
          "data": {
            "text/plain": "          water_need\nanimal              \nelephant  550.000000\nkangaroo  416.666667\nlion      477.500000\ntiger     310.000000\nzebra     184.285714",
            "text/html": "<div>\n<style scoped>\n    .dataframe tbody tr th:only-of-type {\n        vertical-align: middle;\n    }\n\n    .dataframe tbody tr th {\n        vertical-align: top;\n    }\n\n    .dataframe thead th {\n        text-align: right;\n    }\n</style>\n<table border=\"1\" class=\"dataframe\">\n  <thead>\n    <tr style=\"text-align: right;\">\n      <th></th>\n      <th>water_need</th>\n    </tr>\n    <tr>\n      <th>animal</th>\n      <th></th>\n    </tr>\n  </thead>\n  <tbody>\n    <tr>\n      <th>elephant</th>\n      <td>550.000000</td>\n    </tr>\n    <tr>\n      <th>kangaroo</th>\n      <td>416.666667</td>\n    </tr>\n    <tr>\n      <th>lion</th>\n      <td>477.500000</td>\n    </tr>\n    <tr>\n      <th>tiger</th>\n      <td>310.000000</td>\n    </tr>\n    <tr>\n      <th>zebra</th>\n      <td>184.285714</td>\n    </tr>\n  </tbody>\n</table>\n</div>"
          },
          "metadata": {}
        }
      ],
      "execution_count": 28
    },
    {
      "id": "3de8cd74-379e-4460-b8e9-5dcc0fd9b888",
      "cell_type": "code",
      "source": "zoo.groupby('animal').mean().water_need",
      "metadata": {
        "trusted": true
      },
      "outputs": [
        {
          "execution_count": 29,
          "output_type": "execute_result",
          "data": {
            "text/plain": "animal\nelephant    550.000000\nkangaroo    416.666667\nlion        477.500000\ntiger       310.000000\nzebra       184.285714\nName: water_need, dtype: float64"
          },
          "metadata": {}
        }
      ],
      "execution_count": 29
    },
    {
      "id": "6d1d7673-73e8-4cc8-869e-ff62e637aab6",
      "cell_type": "code",
      "source": "zoo.groupby('animal').count()",
      "metadata": {
        "trusted": true
      },
      "outputs": [
        {
          "execution_count": 30,
          "output_type": "execute_result",
          "data": {
            "text/plain": "          uniq_id  water_need\nanimal                       \nelephant        3           3\nkangaroo        3           3\nlion            4           4\ntiger           5           5\nzebra           7           7",
            "text/html": "<div>\n<style scoped>\n    .dataframe tbody tr th:only-of-type {\n        vertical-align: middle;\n    }\n\n    .dataframe tbody tr th {\n        vertical-align: top;\n    }\n\n    .dataframe thead th {\n        text-align: right;\n    }\n</style>\n<table border=\"1\" class=\"dataframe\">\n  <thead>\n    <tr style=\"text-align: right;\">\n      <th></th>\n      <th>uniq_id</th>\n      <th>water_need</th>\n    </tr>\n    <tr>\n      <th>animal</th>\n      <th></th>\n      <th></th>\n    </tr>\n  </thead>\n  <tbody>\n    <tr>\n      <th>elephant</th>\n      <td>3</td>\n      <td>3</td>\n    </tr>\n    <tr>\n      <th>kangaroo</th>\n      <td>3</td>\n      <td>3</td>\n    </tr>\n    <tr>\n      <th>lion</th>\n      <td>4</td>\n      <td>4</td>\n    </tr>\n    <tr>\n      <th>tiger</th>\n      <td>5</td>\n      <td>5</td>\n    </tr>\n    <tr>\n      <th>zebra</th>\n      <td>7</td>\n      <td>7</td>\n    </tr>\n  </tbody>\n</table>\n</div>"
          },
          "metadata": {}
        }
      ],
      "execution_count": 30
    },
    {
      "id": "c84b4f4d-2d5c-48c0-95b1-35630ca49d4b",
      "cell_type": "code",
      "source": "article_read.groupby('source').count()",
      "metadata": {
        "trusted": true
      },
      "outputs": [
        {
          "execution_count": 31,
          "output_type": "execute_result",
          "data": {
            "text/plain": "         my_datetime  event  country  user_id  topic\nsource                                              \nAdWords          500    500      500      500    500\nReddit           949    949      949      949    949\nSEO              346    346      346      346    346",
            "text/html": "<div>\n<style scoped>\n    .dataframe tbody tr th:only-of-type {\n        vertical-align: middle;\n    }\n\n    .dataframe tbody tr th {\n        vertical-align: top;\n    }\n\n    .dataframe thead th {\n        text-align: right;\n    }\n</style>\n<table border=\"1\" class=\"dataframe\">\n  <thead>\n    <tr style=\"text-align: right;\">\n      <th></th>\n      <th>my_datetime</th>\n      <th>event</th>\n      <th>country</th>\n      <th>user_id</th>\n      <th>topic</th>\n    </tr>\n    <tr>\n      <th>source</th>\n      <th></th>\n      <th></th>\n      <th></th>\n      <th></th>\n      <th></th>\n    </tr>\n  </thead>\n  <tbody>\n    <tr>\n      <th>AdWords</th>\n      <td>500</td>\n      <td>500</td>\n      <td>500</td>\n      <td>500</td>\n      <td>500</td>\n    </tr>\n    <tr>\n      <th>Reddit</th>\n      <td>949</td>\n      <td>949</td>\n      <td>949</td>\n      <td>949</td>\n      <td>949</td>\n    </tr>\n    <tr>\n      <th>SEO</th>\n      <td>346</td>\n      <td>346</td>\n      <td>346</td>\n      <td>346</td>\n      <td>346</td>\n    </tr>\n  </tbody>\n</table>\n</div>"
          },
          "metadata": {}
        }
      ],
      "execution_count": 31
    },
    {
      "id": "8f4bd2de-6c2c-484d-a851-4396a176cbbb",
      "cell_type": "code",
      "source": "article_read[article_read.country == 'country_2'].groupby(['source', 'topic']).count()",
      "metadata": {
        "trusted": true
      },
      "outputs": [
        {
          "execution_count": 32,
          "output_type": "execute_result",
          "data": {
            "text/plain": "                       my_datetime  event  country  user_id\nsource  topic                                              \nAdWords Africa                   3      3        3        3\n        Asia                    31     31       31       31\n        Australia                6      6        6        6\n        Europe                  46     46       46       46\n        North America           11     11       11       11\n        South America           14     14       14       14\nReddit  Africa                  24     24       24       24\n        Asia                   139    139      139      139\n        Australia               18     18       18       18\n        Europe                  29     29       29       29\n        North America           27     27       27       27\n        South America           26     26       26       26\nSEO     Africa                   7      7        7        7\n        Asia                     9      9        9        9\n        Australia               10     10       10       10\n        Europe                   4      4        4        4\n        North America           42     42       42       42\n        South America           16     16       16       16",
            "text/html": "<div>\n<style scoped>\n    .dataframe tbody tr th:only-of-type {\n        vertical-align: middle;\n    }\n\n    .dataframe tbody tr th {\n        vertical-align: top;\n    }\n\n    .dataframe thead th {\n        text-align: right;\n    }\n</style>\n<table border=\"1\" class=\"dataframe\">\n  <thead>\n    <tr style=\"text-align: right;\">\n      <th></th>\n      <th></th>\n      <th>my_datetime</th>\n      <th>event</th>\n      <th>country</th>\n      <th>user_id</th>\n    </tr>\n    <tr>\n      <th>source</th>\n      <th>topic</th>\n      <th></th>\n      <th></th>\n      <th></th>\n      <th></th>\n    </tr>\n  </thead>\n  <tbody>\n    <tr>\n      <th rowspan=\"6\" valign=\"top\">AdWords</th>\n      <th>Africa</th>\n      <td>3</td>\n      <td>3</td>\n      <td>3</td>\n      <td>3</td>\n    </tr>\n    <tr>\n      <th>Asia</th>\n      <td>31</td>\n      <td>31</td>\n      <td>31</td>\n      <td>31</td>\n    </tr>\n    <tr>\n      <th>Australia</th>\n      <td>6</td>\n      <td>6</td>\n      <td>6</td>\n      <td>6</td>\n    </tr>\n    <tr>\n      <th>Europe</th>\n      <td>46</td>\n      <td>46</td>\n      <td>46</td>\n      <td>46</td>\n    </tr>\n    <tr>\n      <th>North America</th>\n      <td>11</td>\n      <td>11</td>\n      <td>11</td>\n      <td>11</td>\n    </tr>\n    <tr>\n      <th>South America</th>\n      <td>14</td>\n      <td>14</td>\n      <td>14</td>\n      <td>14</td>\n    </tr>\n    <tr>\n      <th rowspan=\"6\" valign=\"top\">Reddit</th>\n      <th>Africa</th>\n      <td>24</td>\n      <td>24</td>\n      <td>24</td>\n      <td>24</td>\n    </tr>\n    <tr>\n      <th>Asia</th>\n      <td>139</td>\n      <td>139</td>\n      <td>139</td>\n      <td>139</td>\n    </tr>\n    <tr>\n      <th>Australia</th>\n      <td>18</td>\n      <td>18</td>\n      <td>18</td>\n      <td>18</td>\n    </tr>\n    <tr>\n      <th>Europe</th>\n      <td>29</td>\n      <td>29</td>\n      <td>29</td>\n      <td>29</td>\n    </tr>\n    <tr>\n      <th>North America</th>\n      <td>27</td>\n      <td>27</td>\n      <td>27</td>\n      <td>27</td>\n    </tr>\n    <tr>\n      <th>South America</th>\n      <td>26</td>\n      <td>26</td>\n      <td>26</td>\n      <td>26</td>\n    </tr>\n    <tr>\n      <th rowspan=\"6\" valign=\"top\">SEO</th>\n      <th>Africa</th>\n      <td>7</td>\n      <td>7</td>\n      <td>7</td>\n      <td>7</td>\n    </tr>\n    <tr>\n      <th>Asia</th>\n      <td>9</td>\n      <td>9</td>\n      <td>9</td>\n      <td>9</td>\n    </tr>\n    <tr>\n      <th>Australia</th>\n      <td>10</td>\n      <td>10</td>\n      <td>10</td>\n      <td>10</td>\n    </tr>\n    <tr>\n      <th>Europe</th>\n      <td>4</td>\n      <td>4</td>\n      <td>4</td>\n      <td>4</td>\n    </tr>\n    <tr>\n      <th>North America</th>\n      <td>42</td>\n      <td>42</td>\n      <td>42</td>\n      <td>42</td>\n    </tr>\n    <tr>\n      <th>South America</th>\n      <td>16</td>\n      <td>16</td>\n      <td>16</td>\n      <td>16</td>\n    </tr>\n  </tbody>\n</table>\n</div>"
          },
          "metadata": {}
        }
      ],
      "execution_count": 32
    },
    {
      "id": "78174479-15a8-4b49-b468-de4e86ba258c",
      "cell_type": "code",
      "source": "pd.read_csv('zoo_eats.csv', delimiter = ';')",
      "metadata": {
        "trusted": true
      },
      "outputs": [
        {
          "execution_count": 33,
          "output_type": "execute_result",
          "data": {
            "text/plain": "     animal        food\n0  elephant  vegetables\n1     tiger        meat\n2  kangaroo  vegetables\n3     zebra  vegetables\n4   giraffe  vegetables",
            "text/html": "<div>\n<style scoped>\n    .dataframe tbody tr th:only-of-type {\n        vertical-align: middle;\n    }\n\n    .dataframe tbody tr th {\n        vertical-align: top;\n    }\n\n    .dataframe thead th {\n        text-align: right;\n    }\n</style>\n<table border=\"1\" class=\"dataframe\">\n  <thead>\n    <tr style=\"text-align: right;\">\n      <th></th>\n      <th>animal</th>\n      <th>food</th>\n    </tr>\n  </thead>\n  <tbody>\n    <tr>\n      <th>0</th>\n      <td>elephant</td>\n      <td>vegetables</td>\n    </tr>\n    <tr>\n      <th>1</th>\n      <td>tiger</td>\n      <td>meat</td>\n    </tr>\n    <tr>\n      <th>2</th>\n      <td>kangaroo</td>\n      <td>vegetables</td>\n    </tr>\n    <tr>\n      <th>3</th>\n      <td>zebra</td>\n      <td>vegetables</td>\n    </tr>\n    <tr>\n      <th>4</th>\n      <td>giraffe</td>\n      <td>vegetables</td>\n    </tr>\n  </tbody>\n</table>\n</div>"
          },
          "metadata": {}
        }
      ],
      "execution_count": 33
    },
    {
      "id": "9301c881-446a-4159-a0f0-7e0b379a643e",
      "cell_type": "code",
      "source": "zoo_eats = pd.DataFrame\n([['elephant','vegetables'], ['tiger','meat'], ['kangaroo','vegetables'], ['zebra','vegetables'], ['giraffe','vegetables']], columns=['animal', 'food'])",
      "metadata": {
        "trusted": true
      },
      "outputs": [
        {
          "ename": "<class 'SyntaxError'>",
          "evalue": "invalid syntax. Maybe you meant '==' or ':=' instead of '='? (<ipython-input-34-4a9f33eebdee>, line 2)",
          "traceback": [
            "\u001b[0;36m  Cell \u001b[0;32mIn[34], line 2\u001b[0;36m\u001b[0m\n\u001b[0;31m    ([['elephant','vegetables'], ['tiger','meat'], ['kangaroo','vegetables'], ['zebra','vegetables'], ['giraffe','vegetables']], columns=['animal', 'food'])\u001b[0m\n\u001b[0m                                                                                                                                 ^\u001b[0m\n\u001b[0;31mSyntaxError\u001b[0m\u001b[0;31m:\u001b[0m invalid syntax. Maybe you meant '==' or ':=' instead of '='?\n"
          ],
          "output_type": "error"
        }
      ],
      "execution_count": 34
    },
    {
      "id": "c09c4f6b-497b-4c03-a008-e9219698f584",
      "cell_type": "code",
      "source": "zoo_eats = pd.DataFrame([['elephant','vegetables'], ['tiger','meat'], ['kangaroo','vegetables'], ['zebra','vegetables'], ['giraffe','vegetables']], columns=['animal', 'food'])",
      "metadata": {
        "trusted": true
      },
      "outputs": [],
      "execution_count": 35
    },
    {
      "id": "c432232f-f79f-4cd5-a0bf-f06481a91e48",
      "cell_type": "code",
      "source": "zoo.merge(zoo_eats)",
      "metadata": {
        "trusted": true
      },
      "outputs": [
        {
          "execution_count": 36,
          "output_type": "execute_result",
          "data": {
            "text/plain": "      animal  uniq_id  water_need        food\n0   elephant     1001         500  vegetables\n1   elephant     1002         600  vegetables\n2   elephant     1003         550  vegetables\n3      tiger     1004         300        meat\n4      tiger     1005         320        meat\n5      tiger     1006         330        meat\n6      tiger     1007         290        meat\n7      tiger     1008         310        meat\n8      zebra     1009         200  vegetables\n9      zebra     1010         220  vegetables\n10     zebra     1011         240  vegetables\n11     zebra     1012         230  vegetables\n12     zebra     1013         220  vegetables\n13     zebra     1014         100  vegetables\n14     zebra     1015          80  vegetables\n15  kangaroo     1020         410  vegetables\n16  kangaroo     1021         430  vegetables\n17  kangaroo     1022         410  vegetables",
            "text/html": "<div>\n<style scoped>\n    .dataframe tbody tr th:only-of-type {\n        vertical-align: middle;\n    }\n\n    .dataframe tbody tr th {\n        vertical-align: top;\n    }\n\n    .dataframe thead th {\n        text-align: right;\n    }\n</style>\n<table border=\"1\" class=\"dataframe\">\n  <thead>\n    <tr style=\"text-align: right;\">\n      <th></th>\n      <th>animal</th>\n      <th>uniq_id</th>\n      <th>water_need</th>\n      <th>food</th>\n    </tr>\n  </thead>\n  <tbody>\n    <tr>\n      <th>0</th>\n      <td>elephant</td>\n      <td>1001</td>\n      <td>500</td>\n      <td>vegetables</td>\n    </tr>\n    <tr>\n      <th>1</th>\n      <td>elephant</td>\n      <td>1002</td>\n      <td>600</td>\n      <td>vegetables</td>\n    </tr>\n    <tr>\n      <th>2</th>\n      <td>elephant</td>\n      <td>1003</td>\n      <td>550</td>\n      <td>vegetables</td>\n    </tr>\n    <tr>\n      <th>3</th>\n      <td>tiger</td>\n      <td>1004</td>\n      <td>300</td>\n      <td>meat</td>\n    </tr>\n    <tr>\n      <th>4</th>\n      <td>tiger</td>\n      <td>1005</td>\n      <td>320</td>\n      <td>meat</td>\n    </tr>\n    <tr>\n      <th>5</th>\n      <td>tiger</td>\n      <td>1006</td>\n      <td>330</td>\n      <td>meat</td>\n    </tr>\n    <tr>\n      <th>6</th>\n      <td>tiger</td>\n      <td>1007</td>\n      <td>290</td>\n      <td>meat</td>\n    </tr>\n    <tr>\n      <th>7</th>\n      <td>tiger</td>\n      <td>1008</td>\n      <td>310</td>\n      <td>meat</td>\n    </tr>\n    <tr>\n      <th>8</th>\n      <td>zebra</td>\n      <td>1009</td>\n      <td>200</td>\n      <td>vegetables</td>\n    </tr>\n    <tr>\n      <th>9</th>\n      <td>zebra</td>\n      <td>1010</td>\n      <td>220</td>\n      <td>vegetables</td>\n    </tr>\n    <tr>\n      <th>10</th>\n      <td>zebra</td>\n      <td>1011</td>\n      <td>240</td>\n      <td>vegetables</td>\n    </tr>\n    <tr>\n      <th>11</th>\n      <td>zebra</td>\n      <td>1012</td>\n      <td>230</td>\n      <td>vegetables</td>\n    </tr>\n    <tr>\n      <th>12</th>\n      <td>zebra</td>\n      <td>1013</td>\n      <td>220</td>\n      <td>vegetables</td>\n    </tr>\n    <tr>\n      <th>13</th>\n      <td>zebra</td>\n      <td>1014</td>\n      <td>100</td>\n      <td>vegetables</td>\n    </tr>\n    <tr>\n      <th>14</th>\n      <td>zebra</td>\n      <td>1015</td>\n      <td>80</td>\n      <td>vegetables</td>\n    </tr>\n    <tr>\n      <th>15</th>\n      <td>kangaroo</td>\n      <td>1020</td>\n      <td>410</td>\n      <td>vegetables</td>\n    </tr>\n    <tr>\n      <th>16</th>\n      <td>kangaroo</td>\n      <td>1021</td>\n      <td>430</td>\n      <td>vegetables</td>\n    </tr>\n    <tr>\n      <th>17</th>\n      <td>kangaroo</td>\n      <td>1022</td>\n      <td>410</td>\n      <td>vegetables</td>\n    </tr>\n  </tbody>\n</table>\n</div>"
          },
          "metadata": {}
        }
      ],
      "execution_count": 36
    },
    {
      "id": "9ed4e6e0-ecdf-4879-ada1-f73ddcbd6267",
      "cell_type": "code",
      "source": "zoo.merge(zoo_eats, how = 'outer')",
      "metadata": {
        "trusted": true
      },
      "outputs": [
        {
          "execution_count": 37,
          "output_type": "execute_result",
          "data": {
            "text/plain": "      animal  uniq_id  water_need        food\n0   elephant   1001.0       500.0  vegetables\n1   elephant   1002.0       600.0  vegetables\n2   elephant   1003.0       550.0  vegetables\n3    giraffe      NaN         NaN  vegetables\n4   kangaroo   1020.0       410.0  vegetables\n5   kangaroo   1021.0       430.0  vegetables\n6   kangaroo   1022.0       410.0  vegetables\n7       lion   1016.0       420.0         NaN\n8       lion   1017.0       600.0         NaN\n9       lion   1018.0       500.0         NaN\n10      lion   1019.0       390.0         NaN\n11     tiger   1004.0       300.0        meat\n12     tiger   1005.0       320.0        meat\n13     tiger   1006.0       330.0        meat\n14     tiger   1007.0       290.0        meat\n15     tiger   1008.0       310.0        meat\n16     zebra   1009.0       200.0  vegetables\n17     zebra   1010.0       220.0  vegetables\n18     zebra   1011.0       240.0  vegetables\n19     zebra   1012.0       230.0  vegetables\n20     zebra   1013.0       220.0  vegetables\n21     zebra   1014.0       100.0  vegetables\n22     zebra   1015.0        80.0  vegetables",
            "text/html": "<div>\n<style scoped>\n    .dataframe tbody tr th:only-of-type {\n        vertical-align: middle;\n    }\n\n    .dataframe tbody tr th {\n        vertical-align: top;\n    }\n\n    .dataframe thead th {\n        text-align: right;\n    }\n</style>\n<table border=\"1\" class=\"dataframe\">\n  <thead>\n    <tr style=\"text-align: right;\">\n      <th></th>\n      <th>animal</th>\n      <th>uniq_id</th>\n      <th>water_need</th>\n      <th>food</th>\n    </tr>\n  </thead>\n  <tbody>\n    <tr>\n      <th>0</th>\n      <td>elephant</td>\n      <td>1001.0</td>\n      <td>500.0</td>\n      <td>vegetables</td>\n    </tr>\n    <tr>\n      <th>1</th>\n      <td>elephant</td>\n      <td>1002.0</td>\n      <td>600.0</td>\n      <td>vegetables</td>\n    </tr>\n    <tr>\n      <th>2</th>\n      <td>elephant</td>\n      <td>1003.0</td>\n      <td>550.0</td>\n      <td>vegetables</td>\n    </tr>\n    <tr>\n      <th>3</th>\n      <td>giraffe</td>\n      <td>NaN</td>\n      <td>NaN</td>\n      <td>vegetables</td>\n    </tr>\n    <tr>\n      <th>4</th>\n      <td>kangaroo</td>\n      <td>1020.0</td>\n      <td>410.0</td>\n      <td>vegetables</td>\n    </tr>\n    <tr>\n      <th>5</th>\n      <td>kangaroo</td>\n      <td>1021.0</td>\n      <td>430.0</td>\n      <td>vegetables</td>\n    </tr>\n    <tr>\n      <th>6</th>\n      <td>kangaroo</td>\n      <td>1022.0</td>\n      <td>410.0</td>\n      <td>vegetables</td>\n    </tr>\n    <tr>\n      <th>7</th>\n      <td>lion</td>\n      <td>1016.0</td>\n      <td>420.0</td>\n      <td>NaN</td>\n    </tr>\n    <tr>\n      <th>8</th>\n      <td>lion</td>\n      <td>1017.0</td>\n      <td>600.0</td>\n      <td>NaN</td>\n    </tr>\n    <tr>\n      <th>9</th>\n      <td>lion</td>\n      <td>1018.0</td>\n      <td>500.0</td>\n      <td>NaN</td>\n    </tr>\n    <tr>\n      <th>10</th>\n      <td>lion</td>\n      <td>1019.0</td>\n      <td>390.0</td>\n      <td>NaN</td>\n    </tr>\n    <tr>\n      <th>11</th>\n      <td>tiger</td>\n      <td>1004.0</td>\n      <td>300.0</td>\n      <td>meat</td>\n    </tr>\n    <tr>\n      <th>12</th>\n      <td>tiger</td>\n      <td>1005.0</td>\n      <td>320.0</td>\n      <td>meat</td>\n    </tr>\n    <tr>\n      <th>13</th>\n      <td>tiger</td>\n      <td>1006.0</td>\n      <td>330.0</td>\n      <td>meat</td>\n    </tr>\n    <tr>\n      <th>14</th>\n      <td>tiger</td>\n      <td>1007.0</td>\n      <td>290.0</td>\n      <td>meat</td>\n    </tr>\n    <tr>\n      <th>15</th>\n      <td>tiger</td>\n      <td>1008.0</td>\n      <td>310.0</td>\n      <td>meat</td>\n    </tr>\n    <tr>\n      <th>16</th>\n      <td>zebra</td>\n      <td>1009.0</td>\n      <td>200.0</td>\n      <td>vegetables</td>\n    </tr>\n    <tr>\n      <th>17</th>\n      <td>zebra</td>\n      <td>1010.0</td>\n      <td>220.0</td>\n      <td>vegetables</td>\n    </tr>\n    <tr>\n      <th>18</th>\n      <td>zebra</td>\n      <td>1011.0</td>\n      <td>240.0</td>\n      <td>vegetables</td>\n    </tr>\n    <tr>\n      <th>19</th>\n      <td>zebra</td>\n      <td>1012.0</td>\n      <td>230.0</td>\n      <td>vegetables</td>\n    </tr>\n    <tr>\n      <th>20</th>\n      <td>zebra</td>\n      <td>1013.0</td>\n      <td>220.0</td>\n      <td>vegetables</td>\n    </tr>\n    <tr>\n      <th>21</th>\n      <td>zebra</td>\n      <td>1014.0</td>\n      <td>100.0</td>\n      <td>vegetables</td>\n    </tr>\n    <tr>\n      <th>22</th>\n      <td>zebra</td>\n      <td>1015.0</td>\n      <td>80.0</td>\n      <td>vegetables</td>\n    </tr>\n  </tbody>\n</table>\n</div>"
          },
          "metadata": {}
        }
      ],
      "execution_count": 37
    },
    {
      "id": "4ac54013-41e6-4b47-8c1c-256b24283e20",
      "cell_type": "code",
      "source": "zoo.merge(zoo_eats, how = 'left')",
      "metadata": {
        "trusted": true
      },
      "outputs": [
        {
          "execution_count": 38,
          "output_type": "execute_result",
          "data": {
            "text/plain": "      animal  uniq_id  water_need        food\n0   elephant     1001         500  vegetables\n1   elephant     1002         600  vegetables\n2   elephant     1003         550  vegetables\n3      tiger     1004         300        meat\n4      tiger     1005         320        meat\n5      tiger     1006         330        meat\n6      tiger     1007         290        meat\n7      tiger     1008         310        meat\n8      zebra     1009         200  vegetables\n9      zebra     1010         220  vegetables\n10     zebra     1011         240  vegetables\n11     zebra     1012         230  vegetables\n12     zebra     1013         220  vegetables\n13     zebra     1014         100  vegetables\n14     zebra     1015          80  vegetables\n15      lion     1016         420         NaN\n16      lion     1017         600         NaN\n17      lion     1018         500         NaN\n18      lion     1019         390         NaN\n19  kangaroo     1020         410  vegetables\n20  kangaroo     1021         430  vegetables\n21  kangaroo     1022         410  vegetables",
            "text/html": "<div>\n<style scoped>\n    .dataframe tbody tr th:only-of-type {\n        vertical-align: middle;\n    }\n\n    .dataframe tbody tr th {\n        vertical-align: top;\n    }\n\n    .dataframe thead th {\n        text-align: right;\n    }\n</style>\n<table border=\"1\" class=\"dataframe\">\n  <thead>\n    <tr style=\"text-align: right;\">\n      <th></th>\n      <th>animal</th>\n      <th>uniq_id</th>\n      <th>water_need</th>\n      <th>food</th>\n    </tr>\n  </thead>\n  <tbody>\n    <tr>\n      <th>0</th>\n      <td>elephant</td>\n      <td>1001</td>\n      <td>500</td>\n      <td>vegetables</td>\n    </tr>\n    <tr>\n      <th>1</th>\n      <td>elephant</td>\n      <td>1002</td>\n      <td>600</td>\n      <td>vegetables</td>\n    </tr>\n    <tr>\n      <th>2</th>\n      <td>elephant</td>\n      <td>1003</td>\n      <td>550</td>\n      <td>vegetables</td>\n    </tr>\n    <tr>\n      <th>3</th>\n      <td>tiger</td>\n      <td>1004</td>\n      <td>300</td>\n      <td>meat</td>\n    </tr>\n    <tr>\n      <th>4</th>\n      <td>tiger</td>\n      <td>1005</td>\n      <td>320</td>\n      <td>meat</td>\n    </tr>\n    <tr>\n      <th>5</th>\n      <td>tiger</td>\n      <td>1006</td>\n      <td>330</td>\n      <td>meat</td>\n    </tr>\n    <tr>\n      <th>6</th>\n      <td>tiger</td>\n      <td>1007</td>\n      <td>290</td>\n      <td>meat</td>\n    </tr>\n    <tr>\n      <th>7</th>\n      <td>tiger</td>\n      <td>1008</td>\n      <td>310</td>\n      <td>meat</td>\n    </tr>\n    <tr>\n      <th>8</th>\n      <td>zebra</td>\n      <td>1009</td>\n      <td>200</td>\n      <td>vegetables</td>\n    </tr>\n    <tr>\n      <th>9</th>\n      <td>zebra</td>\n      <td>1010</td>\n      <td>220</td>\n      <td>vegetables</td>\n    </tr>\n    <tr>\n      <th>10</th>\n      <td>zebra</td>\n      <td>1011</td>\n      <td>240</td>\n      <td>vegetables</td>\n    </tr>\n    <tr>\n      <th>11</th>\n      <td>zebra</td>\n      <td>1012</td>\n      <td>230</td>\n      <td>vegetables</td>\n    </tr>\n    <tr>\n      <th>12</th>\n      <td>zebra</td>\n      <td>1013</td>\n      <td>220</td>\n      <td>vegetables</td>\n    </tr>\n    <tr>\n      <th>13</th>\n      <td>zebra</td>\n      <td>1014</td>\n      <td>100</td>\n      <td>vegetables</td>\n    </tr>\n    <tr>\n      <th>14</th>\n      <td>zebra</td>\n      <td>1015</td>\n      <td>80</td>\n      <td>vegetables</td>\n    </tr>\n    <tr>\n      <th>15</th>\n      <td>lion</td>\n      <td>1016</td>\n      <td>420</td>\n      <td>NaN</td>\n    </tr>\n    <tr>\n      <th>16</th>\n      <td>lion</td>\n      <td>1017</td>\n      <td>600</td>\n      <td>NaN</td>\n    </tr>\n    <tr>\n      <th>17</th>\n      <td>lion</td>\n      <td>1018</td>\n      <td>500</td>\n      <td>NaN</td>\n    </tr>\n    <tr>\n      <th>18</th>\n      <td>lion</td>\n      <td>1019</td>\n      <td>390</td>\n      <td>NaN</td>\n    </tr>\n    <tr>\n      <th>19</th>\n      <td>kangaroo</td>\n      <td>1020</td>\n      <td>410</td>\n      <td>vegetables</td>\n    </tr>\n    <tr>\n      <th>20</th>\n      <td>kangaroo</td>\n      <td>1021</td>\n      <td>430</td>\n      <td>vegetables</td>\n    </tr>\n    <tr>\n      <th>21</th>\n      <td>kangaroo</td>\n      <td>1022</td>\n      <td>410</td>\n      <td>vegetables</td>\n    </tr>\n  </tbody>\n</table>\n</div>"
          },
          "metadata": {}
        }
      ],
      "execution_count": 38
    },
    {
      "id": "6048d0e8-bbcc-4d1f-91c6-7f800a750d78",
      "cell_type": "code",
      "source": "zoo.sort_values('water_need')",
      "metadata": {
        "trusted": true
      },
      "outputs": [
        {
          "execution_count": 39,
          "output_type": "execute_result",
          "data": {
            "text/plain": "      animal  uniq_id  water_need\n14     zebra     1015          80\n13     zebra     1014         100\n8      zebra     1009         200\n9      zebra     1010         220\n12     zebra     1013         220\n11     zebra     1012         230\n10     zebra     1011         240\n6      tiger     1007         290\n3      tiger     1004         300\n7      tiger     1008         310\n4      tiger     1005         320\n5      tiger     1006         330\n18      lion     1019         390\n19  kangaroo     1020         410\n21  kangaroo     1022         410\n15      lion     1016         420\n20  kangaroo     1021         430\n17      lion     1018         500\n0   elephant     1001         500\n2   elephant     1003         550\n16      lion     1017         600\n1   elephant     1002         600",
            "text/html": "<div>\n<style scoped>\n    .dataframe tbody tr th:only-of-type {\n        vertical-align: middle;\n    }\n\n    .dataframe tbody tr th {\n        vertical-align: top;\n    }\n\n    .dataframe thead th {\n        text-align: right;\n    }\n</style>\n<table border=\"1\" class=\"dataframe\">\n  <thead>\n    <tr style=\"text-align: right;\">\n      <th></th>\n      <th>animal</th>\n      <th>uniq_id</th>\n      <th>water_need</th>\n    </tr>\n  </thead>\n  <tbody>\n    <tr>\n      <th>14</th>\n      <td>zebra</td>\n      <td>1015</td>\n      <td>80</td>\n    </tr>\n    <tr>\n      <th>13</th>\n      <td>zebra</td>\n      <td>1014</td>\n      <td>100</td>\n    </tr>\n    <tr>\n      <th>8</th>\n      <td>zebra</td>\n      <td>1009</td>\n      <td>200</td>\n    </tr>\n    <tr>\n      <th>9</th>\n      <td>zebra</td>\n      <td>1010</td>\n      <td>220</td>\n    </tr>\n    <tr>\n      <th>12</th>\n      <td>zebra</td>\n      <td>1013</td>\n      <td>220</td>\n    </tr>\n    <tr>\n      <th>11</th>\n      <td>zebra</td>\n      <td>1012</td>\n      <td>230</td>\n    </tr>\n    <tr>\n      <th>10</th>\n      <td>zebra</td>\n      <td>1011</td>\n      <td>240</td>\n    </tr>\n    <tr>\n      <th>6</th>\n      <td>tiger</td>\n      <td>1007</td>\n      <td>290</td>\n    </tr>\n    <tr>\n      <th>3</th>\n      <td>tiger</td>\n      <td>1004</td>\n      <td>300</td>\n    </tr>\n    <tr>\n      <th>7</th>\n      <td>tiger</td>\n      <td>1008</td>\n      <td>310</td>\n    </tr>\n    <tr>\n      <th>4</th>\n      <td>tiger</td>\n      <td>1005</td>\n      <td>320</td>\n    </tr>\n    <tr>\n      <th>5</th>\n      <td>tiger</td>\n      <td>1006</td>\n      <td>330</td>\n    </tr>\n    <tr>\n      <th>18</th>\n      <td>lion</td>\n      <td>1019</td>\n      <td>390</td>\n    </tr>\n    <tr>\n      <th>19</th>\n      <td>kangaroo</td>\n      <td>1020</td>\n      <td>410</td>\n    </tr>\n    <tr>\n      <th>21</th>\n      <td>kangaroo</td>\n      <td>1022</td>\n      <td>410</td>\n    </tr>\n    <tr>\n      <th>15</th>\n      <td>lion</td>\n      <td>1016</td>\n      <td>420</td>\n    </tr>\n    <tr>\n      <th>20</th>\n      <td>kangaroo</td>\n      <td>1021</td>\n      <td>430</td>\n    </tr>\n    <tr>\n      <th>17</th>\n      <td>lion</td>\n      <td>1018</td>\n      <td>500</td>\n    </tr>\n    <tr>\n      <th>0</th>\n      <td>elephant</td>\n      <td>1001</td>\n      <td>500</td>\n    </tr>\n    <tr>\n      <th>2</th>\n      <td>elephant</td>\n      <td>1003</td>\n      <td>550</td>\n    </tr>\n    <tr>\n      <th>16</th>\n      <td>lion</td>\n      <td>1017</td>\n      <td>600</td>\n    </tr>\n    <tr>\n      <th>1</th>\n      <td>elephant</td>\n      <td>1002</td>\n      <td>600</td>\n    </tr>\n  </tbody>\n</table>\n</div>"
          },
          "metadata": {}
        }
      ],
      "execution_count": 39
    },
    {
      "id": "08a7c0de-76fd-4701-84c1-7610120f10b8",
      "cell_type": "code",
      "source": "zoo.sort_values(by = ['animal', 'water_need'])",
      "metadata": {
        "trusted": true
      },
      "outputs": [
        {
          "execution_count": 40,
          "output_type": "execute_result",
          "data": {
            "text/plain": "      animal  uniq_id  water_need\n0   elephant     1001         500\n2   elephant     1003         550\n1   elephant     1002         600\n19  kangaroo     1020         410\n21  kangaroo     1022         410\n20  kangaroo     1021         430\n18      lion     1019         390\n15      lion     1016         420\n17      lion     1018         500\n16      lion     1017         600\n6      tiger     1007         290\n3      tiger     1004         300\n7      tiger     1008         310\n4      tiger     1005         320\n5      tiger     1006         330\n14     zebra     1015          80\n13     zebra     1014         100\n8      zebra     1009         200\n9      zebra     1010         220\n12     zebra     1013         220\n11     zebra     1012         230\n10     zebra     1011         240",
            "text/html": "<div>\n<style scoped>\n    .dataframe tbody tr th:only-of-type {\n        vertical-align: middle;\n    }\n\n    .dataframe tbody tr th {\n        vertical-align: top;\n    }\n\n    .dataframe thead th {\n        text-align: right;\n    }\n</style>\n<table border=\"1\" class=\"dataframe\">\n  <thead>\n    <tr style=\"text-align: right;\">\n      <th></th>\n      <th>animal</th>\n      <th>uniq_id</th>\n      <th>water_need</th>\n    </tr>\n  </thead>\n  <tbody>\n    <tr>\n      <th>0</th>\n      <td>elephant</td>\n      <td>1001</td>\n      <td>500</td>\n    </tr>\n    <tr>\n      <th>2</th>\n      <td>elephant</td>\n      <td>1003</td>\n      <td>550</td>\n    </tr>\n    <tr>\n      <th>1</th>\n      <td>elephant</td>\n      <td>1002</td>\n      <td>600</td>\n    </tr>\n    <tr>\n      <th>19</th>\n      <td>kangaroo</td>\n      <td>1020</td>\n      <td>410</td>\n    </tr>\n    <tr>\n      <th>21</th>\n      <td>kangaroo</td>\n      <td>1022</td>\n      <td>410</td>\n    </tr>\n    <tr>\n      <th>20</th>\n      <td>kangaroo</td>\n      <td>1021</td>\n      <td>430</td>\n    </tr>\n    <tr>\n      <th>18</th>\n      <td>lion</td>\n      <td>1019</td>\n      <td>390</td>\n    </tr>\n    <tr>\n      <th>15</th>\n      <td>lion</td>\n      <td>1016</td>\n      <td>420</td>\n    </tr>\n    <tr>\n      <th>17</th>\n      <td>lion</td>\n      <td>1018</td>\n      <td>500</td>\n    </tr>\n    <tr>\n      <th>16</th>\n      <td>lion</td>\n      <td>1017</td>\n      <td>600</td>\n    </tr>\n    <tr>\n      <th>6</th>\n      <td>tiger</td>\n      <td>1007</td>\n      <td>290</td>\n    </tr>\n    <tr>\n      <th>3</th>\n      <td>tiger</td>\n      <td>1004</td>\n      <td>300</td>\n    </tr>\n    <tr>\n      <th>7</th>\n      <td>tiger</td>\n      <td>1008</td>\n      <td>310</td>\n    </tr>\n    <tr>\n      <th>4</th>\n      <td>tiger</td>\n      <td>1005</td>\n      <td>320</td>\n    </tr>\n    <tr>\n      <th>5</th>\n      <td>tiger</td>\n      <td>1006</td>\n      <td>330</td>\n    </tr>\n    <tr>\n      <th>14</th>\n      <td>zebra</td>\n      <td>1015</td>\n      <td>80</td>\n    </tr>\n    <tr>\n      <th>13</th>\n      <td>zebra</td>\n      <td>1014</td>\n      <td>100</td>\n    </tr>\n    <tr>\n      <th>8</th>\n      <td>zebra</td>\n      <td>1009</td>\n      <td>200</td>\n    </tr>\n    <tr>\n      <th>9</th>\n      <td>zebra</td>\n      <td>1010</td>\n      <td>220</td>\n    </tr>\n    <tr>\n      <th>12</th>\n      <td>zebra</td>\n      <td>1013</td>\n      <td>220</td>\n    </tr>\n    <tr>\n      <th>11</th>\n      <td>zebra</td>\n      <td>1012</td>\n      <td>230</td>\n    </tr>\n    <tr>\n      <th>10</th>\n      <td>zebra</td>\n      <td>1011</td>\n      <td>240</td>\n    </tr>\n  </tbody>\n</table>\n</div>"
          },
          "metadata": {}
        }
      ],
      "execution_count": 40
    },
    {
      "id": "c5c576c4-48cf-4557-8c34-8c226362405c",
      "cell_type": "code",
      "source": "zoo.sort_values(by = ['water_need'], ascending = False)",
      "metadata": {
        "trusted": true
      },
      "outputs": [
        {
          "execution_count": 41,
          "output_type": "execute_result",
          "data": {
            "text/plain": "      animal  uniq_id  water_need\n1   elephant     1002         600\n16      lion     1017         600\n2   elephant     1003         550\n0   elephant     1001         500\n17      lion     1018         500\n20  kangaroo     1021         430\n15      lion     1016         420\n19  kangaroo     1020         410\n21  kangaroo     1022         410\n18      lion     1019         390\n5      tiger     1006         330\n4      tiger     1005         320\n7      tiger     1008         310\n3      tiger     1004         300\n6      tiger     1007         290\n10     zebra     1011         240\n11     zebra     1012         230\n9      zebra     1010         220\n12     zebra     1013         220\n8      zebra     1009         200\n13     zebra     1014         100\n14     zebra     1015          80",
            "text/html": "<div>\n<style scoped>\n    .dataframe tbody tr th:only-of-type {\n        vertical-align: middle;\n    }\n\n    .dataframe tbody tr th {\n        vertical-align: top;\n    }\n\n    .dataframe thead th {\n        text-align: right;\n    }\n</style>\n<table border=\"1\" class=\"dataframe\">\n  <thead>\n    <tr style=\"text-align: right;\">\n      <th></th>\n      <th>animal</th>\n      <th>uniq_id</th>\n      <th>water_need</th>\n    </tr>\n  </thead>\n  <tbody>\n    <tr>\n      <th>1</th>\n      <td>elephant</td>\n      <td>1002</td>\n      <td>600</td>\n    </tr>\n    <tr>\n      <th>16</th>\n      <td>lion</td>\n      <td>1017</td>\n      <td>600</td>\n    </tr>\n    <tr>\n      <th>2</th>\n      <td>elephant</td>\n      <td>1003</td>\n      <td>550</td>\n    </tr>\n    <tr>\n      <th>0</th>\n      <td>elephant</td>\n      <td>1001</td>\n      <td>500</td>\n    </tr>\n    <tr>\n      <th>17</th>\n      <td>lion</td>\n      <td>1018</td>\n      <td>500</td>\n    </tr>\n    <tr>\n      <th>20</th>\n      <td>kangaroo</td>\n      <td>1021</td>\n      <td>430</td>\n    </tr>\n    <tr>\n      <th>15</th>\n      <td>lion</td>\n      <td>1016</td>\n      <td>420</td>\n    </tr>\n    <tr>\n      <th>19</th>\n      <td>kangaroo</td>\n      <td>1020</td>\n      <td>410</td>\n    </tr>\n    <tr>\n      <th>21</th>\n      <td>kangaroo</td>\n      <td>1022</td>\n      <td>410</td>\n    </tr>\n    <tr>\n      <th>18</th>\n      <td>lion</td>\n      <td>1019</td>\n      <td>390</td>\n    </tr>\n    <tr>\n      <th>5</th>\n      <td>tiger</td>\n      <td>1006</td>\n      <td>330</td>\n    </tr>\n    <tr>\n      <th>4</th>\n      <td>tiger</td>\n      <td>1005</td>\n      <td>320</td>\n    </tr>\n    <tr>\n      <th>7</th>\n      <td>tiger</td>\n      <td>1008</td>\n      <td>310</td>\n    </tr>\n    <tr>\n      <th>3</th>\n      <td>tiger</td>\n      <td>1004</td>\n      <td>300</td>\n    </tr>\n    <tr>\n      <th>6</th>\n      <td>tiger</td>\n      <td>1007</td>\n      <td>290</td>\n    </tr>\n    <tr>\n      <th>10</th>\n      <td>zebra</td>\n      <td>1011</td>\n      <td>240</td>\n    </tr>\n    <tr>\n      <th>11</th>\n      <td>zebra</td>\n      <td>1012</td>\n      <td>230</td>\n    </tr>\n    <tr>\n      <th>9</th>\n      <td>zebra</td>\n      <td>1010</td>\n      <td>220</td>\n    </tr>\n    <tr>\n      <th>12</th>\n      <td>zebra</td>\n      <td>1013</td>\n      <td>220</td>\n    </tr>\n    <tr>\n      <th>8</th>\n      <td>zebra</td>\n      <td>1009</td>\n      <td>200</td>\n    </tr>\n    <tr>\n      <th>13</th>\n      <td>zebra</td>\n      <td>1014</td>\n      <td>100</td>\n    </tr>\n    <tr>\n      <th>14</th>\n      <td>zebra</td>\n      <td>1015</td>\n      <td>80</td>\n    </tr>\n  </tbody>\n</table>\n</div>"
          },
          "metadata": {}
        }
      ],
      "execution_count": 41
    },
    {
      "id": "567f4d4a-2a83-4b25-a38b-ff4b397ebdde",
      "cell_type": "code",
      "source": "zoo.sort_values(by = ['water_need'], ascending = False).reset_index()",
      "metadata": {
        "trusted": true
      },
      "outputs": [
        {
          "execution_count": 42,
          "output_type": "execute_result",
          "data": {
            "text/plain": "    index    animal  uniq_id  water_need\n0       1  elephant     1002         600\n1      16      lion     1017         600\n2       2  elephant     1003         550\n3       0  elephant     1001         500\n4      17      lion     1018         500\n5      20  kangaroo     1021         430\n6      15      lion     1016         420\n7      19  kangaroo     1020         410\n8      21  kangaroo     1022         410\n9      18      lion     1019         390\n10      5     tiger     1006         330\n11      4     tiger     1005         320\n12      7     tiger     1008         310\n13      3     tiger     1004         300\n14      6     tiger     1007         290\n15     10     zebra     1011         240\n16     11     zebra     1012         230\n17      9     zebra     1010         220\n18     12     zebra     1013         220\n19      8     zebra     1009         200\n20     13     zebra     1014         100\n21     14     zebra     1015          80",
            "text/html": "<div>\n<style scoped>\n    .dataframe tbody tr th:only-of-type {\n        vertical-align: middle;\n    }\n\n    .dataframe tbody tr th {\n        vertical-align: top;\n    }\n\n    .dataframe thead th {\n        text-align: right;\n    }\n</style>\n<table border=\"1\" class=\"dataframe\">\n  <thead>\n    <tr style=\"text-align: right;\">\n      <th></th>\n      <th>index</th>\n      <th>animal</th>\n      <th>uniq_id</th>\n      <th>water_need</th>\n    </tr>\n  </thead>\n  <tbody>\n    <tr>\n      <th>0</th>\n      <td>1</td>\n      <td>elephant</td>\n      <td>1002</td>\n      <td>600</td>\n    </tr>\n    <tr>\n      <th>1</th>\n      <td>16</td>\n      <td>lion</td>\n      <td>1017</td>\n      <td>600</td>\n    </tr>\n    <tr>\n      <th>2</th>\n      <td>2</td>\n      <td>elephant</td>\n      <td>1003</td>\n      <td>550</td>\n    </tr>\n    <tr>\n      <th>3</th>\n      <td>0</td>\n      <td>elephant</td>\n      <td>1001</td>\n      <td>500</td>\n    </tr>\n    <tr>\n      <th>4</th>\n      <td>17</td>\n      <td>lion</td>\n      <td>1018</td>\n      <td>500</td>\n    </tr>\n    <tr>\n      <th>5</th>\n      <td>20</td>\n      <td>kangaroo</td>\n      <td>1021</td>\n      <td>430</td>\n    </tr>\n    <tr>\n      <th>6</th>\n      <td>15</td>\n      <td>lion</td>\n      <td>1016</td>\n      <td>420</td>\n    </tr>\n    <tr>\n      <th>7</th>\n      <td>19</td>\n      <td>kangaroo</td>\n      <td>1020</td>\n      <td>410</td>\n    </tr>\n    <tr>\n      <th>8</th>\n      <td>21</td>\n      <td>kangaroo</td>\n      <td>1022</td>\n      <td>410</td>\n    </tr>\n    <tr>\n      <th>9</th>\n      <td>18</td>\n      <td>lion</td>\n      <td>1019</td>\n      <td>390</td>\n    </tr>\n    <tr>\n      <th>10</th>\n      <td>5</td>\n      <td>tiger</td>\n      <td>1006</td>\n      <td>330</td>\n    </tr>\n    <tr>\n      <th>11</th>\n      <td>4</td>\n      <td>tiger</td>\n      <td>1005</td>\n      <td>320</td>\n    </tr>\n    <tr>\n      <th>12</th>\n      <td>7</td>\n      <td>tiger</td>\n      <td>1008</td>\n      <td>310</td>\n    </tr>\n    <tr>\n      <th>13</th>\n      <td>3</td>\n      <td>tiger</td>\n      <td>1004</td>\n      <td>300</td>\n    </tr>\n    <tr>\n      <th>14</th>\n      <td>6</td>\n      <td>tiger</td>\n      <td>1007</td>\n      <td>290</td>\n    </tr>\n    <tr>\n      <th>15</th>\n      <td>10</td>\n      <td>zebra</td>\n      <td>1011</td>\n      <td>240</td>\n    </tr>\n    <tr>\n      <th>16</th>\n      <td>11</td>\n      <td>zebra</td>\n      <td>1012</td>\n      <td>230</td>\n    </tr>\n    <tr>\n      <th>17</th>\n      <td>9</td>\n      <td>zebra</td>\n      <td>1010</td>\n      <td>220</td>\n    </tr>\n    <tr>\n      <th>18</th>\n      <td>12</td>\n      <td>zebra</td>\n      <td>1013</td>\n      <td>220</td>\n    </tr>\n    <tr>\n      <th>19</th>\n      <td>8</td>\n      <td>zebra</td>\n      <td>1009</td>\n      <td>200</td>\n    </tr>\n    <tr>\n      <th>20</th>\n      <td>13</td>\n      <td>zebra</td>\n      <td>1014</td>\n      <td>100</td>\n    </tr>\n    <tr>\n      <th>21</th>\n      <td>14</td>\n      <td>zebra</td>\n      <td>1015</td>\n      <td>80</td>\n    </tr>\n  </tbody>\n</table>\n</div>"
          },
          "metadata": {}
        }
      ],
      "execution_count": 42
    },
    {
      "id": "6ebb6725-cc69-4279-bafd-c92c5dff50a0",
      "cell_type": "code",
      "source": "zoo.sort_values(by = ['water_need'], ascending = False).reset_index(drop = True)",
      "metadata": {
        "trusted": true
      },
      "outputs": [
        {
          "execution_count": 43,
          "output_type": "execute_result",
          "data": {
            "text/plain": "      animal  uniq_id  water_need\n0   elephant     1002         600\n1       lion     1017         600\n2   elephant     1003         550\n3   elephant     1001         500\n4       lion     1018         500\n5   kangaroo     1021         430\n6       lion     1016         420\n7   kangaroo     1020         410\n8   kangaroo     1022         410\n9       lion     1019         390\n10     tiger     1006         330\n11     tiger     1005         320\n12     tiger     1008         310\n13     tiger     1004         300\n14     tiger     1007         290\n15     zebra     1011         240\n16     zebra     1012         230\n17     zebra     1010         220\n18     zebra     1013         220\n19     zebra     1009         200\n20     zebra     1014         100\n21     zebra     1015          80",
            "text/html": "<div>\n<style scoped>\n    .dataframe tbody tr th:only-of-type {\n        vertical-align: middle;\n    }\n\n    .dataframe tbody tr th {\n        vertical-align: top;\n    }\n\n    .dataframe thead th {\n        text-align: right;\n    }\n</style>\n<table border=\"1\" class=\"dataframe\">\n  <thead>\n    <tr style=\"text-align: right;\">\n      <th></th>\n      <th>animal</th>\n      <th>uniq_id</th>\n      <th>water_need</th>\n    </tr>\n  </thead>\n  <tbody>\n    <tr>\n      <th>0</th>\n      <td>elephant</td>\n      <td>1002</td>\n      <td>600</td>\n    </tr>\n    <tr>\n      <th>1</th>\n      <td>lion</td>\n      <td>1017</td>\n      <td>600</td>\n    </tr>\n    <tr>\n      <th>2</th>\n      <td>elephant</td>\n      <td>1003</td>\n      <td>550</td>\n    </tr>\n    <tr>\n      <th>3</th>\n      <td>elephant</td>\n      <td>1001</td>\n      <td>500</td>\n    </tr>\n    <tr>\n      <th>4</th>\n      <td>lion</td>\n      <td>1018</td>\n      <td>500</td>\n    </tr>\n    <tr>\n      <th>5</th>\n      <td>kangaroo</td>\n      <td>1021</td>\n      <td>430</td>\n    </tr>\n    <tr>\n      <th>6</th>\n      <td>lion</td>\n      <td>1016</td>\n      <td>420</td>\n    </tr>\n    <tr>\n      <th>7</th>\n      <td>kangaroo</td>\n      <td>1020</td>\n      <td>410</td>\n    </tr>\n    <tr>\n      <th>8</th>\n      <td>kangaroo</td>\n      <td>1022</td>\n      <td>410</td>\n    </tr>\n    <tr>\n      <th>9</th>\n      <td>lion</td>\n      <td>1019</td>\n      <td>390</td>\n    </tr>\n    <tr>\n      <th>10</th>\n      <td>tiger</td>\n      <td>1006</td>\n      <td>330</td>\n    </tr>\n    <tr>\n      <th>11</th>\n      <td>tiger</td>\n      <td>1005</td>\n      <td>320</td>\n    </tr>\n    <tr>\n      <th>12</th>\n      <td>tiger</td>\n      <td>1008</td>\n      <td>310</td>\n    </tr>\n    <tr>\n      <th>13</th>\n      <td>tiger</td>\n      <td>1004</td>\n      <td>300</td>\n    </tr>\n    <tr>\n      <th>14</th>\n      <td>tiger</td>\n      <td>1007</td>\n      <td>290</td>\n    </tr>\n    <tr>\n      <th>15</th>\n      <td>zebra</td>\n      <td>1011</td>\n      <td>240</td>\n    </tr>\n    <tr>\n      <th>16</th>\n      <td>zebra</td>\n      <td>1012</td>\n      <td>230</td>\n    </tr>\n    <tr>\n      <th>17</th>\n      <td>zebra</td>\n      <td>1010</td>\n      <td>220</td>\n    </tr>\n    <tr>\n      <th>18</th>\n      <td>zebra</td>\n      <td>1013</td>\n      <td>220</td>\n    </tr>\n    <tr>\n      <th>19</th>\n      <td>zebra</td>\n      <td>1009</td>\n      <td>200</td>\n    </tr>\n    <tr>\n      <th>20</th>\n      <td>zebra</td>\n      <td>1014</td>\n      <td>100</td>\n    </tr>\n    <tr>\n      <th>21</th>\n      <td>zebra</td>\n      <td>1015</td>\n      <td>80</td>\n    </tr>\n  </tbody>\n</table>\n</div>"
          },
          "metadata": {}
        }
      ],
      "execution_count": 43
    },
    {
      "id": "d7aa511f-96a9-4f69-8f5b-aff11b72095b",
      "cell_type": "code",
      "source": "zoo.merge(zoo_eats, how = 'left')",
      "metadata": {
        "trusted": true
      },
      "outputs": [
        {
          "execution_count": 44,
          "output_type": "execute_result",
          "data": {
            "text/plain": "      animal  uniq_id  water_need        food\n0   elephant     1001         500  vegetables\n1   elephant     1002         600  vegetables\n2   elephant     1003         550  vegetables\n3      tiger     1004         300        meat\n4      tiger     1005         320        meat\n5      tiger     1006         330        meat\n6      tiger     1007         290        meat\n7      tiger     1008         310        meat\n8      zebra     1009         200  vegetables\n9      zebra     1010         220  vegetables\n10     zebra     1011         240  vegetables\n11     zebra     1012         230  vegetables\n12     zebra     1013         220  vegetables\n13     zebra     1014         100  vegetables\n14     zebra     1015          80  vegetables\n15      lion     1016         420         NaN\n16      lion     1017         600         NaN\n17      lion     1018         500         NaN\n18      lion     1019         390         NaN\n19  kangaroo     1020         410  vegetables\n20  kangaroo     1021         430  vegetables\n21  kangaroo     1022         410  vegetables",
            "text/html": "<div>\n<style scoped>\n    .dataframe tbody tr th:only-of-type {\n        vertical-align: middle;\n    }\n\n    .dataframe tbody tr th {\n        vertical-align: top;\n    }\n\n    .dataframe thead th {\n        text-align: right;\n    }\n</style>\n<table border=\"1\" class=\"dataframe\">\n  <thead>\n    <tr style=\"text-align: right;\">\n      <th></th>\n      <th>animal</th>\n      <th>uniq_id</th>\n      <th>water_need</th>\n      <th>food</th>\n    </tr>\n  </thead>\n  <tbody>\n    <tr>\n      <th>0</th>\n      <td>elephant</td>\n      <td>1001</td>\n      <td>500</td>\n      <td>vegetables</td>\n    </tr>\n    <tr>\n      <th>1</th>\n      <td>elephant</td>\n      <td>1002</td>\n      <td>600</td>\n      <td>vegetables</td>\n    </tr>\n    <tr>\n      <th>2</th>\n      <td>elephant</td>\n      <td>1003</td>\n      <td>550</td>\n      <td>vegetables</td>\n    </tr>\n    <tr>\n      <th>3</th>\n      <td>tiger</td>\n      <td>1004</td>\n      <td>300</td>\n      <td>meat</td>\n    </tr>\n    <tr>\n      <th>4</th>\n      <td>tiger</td>\n      <td>1005</td>\n      <td>320</td>\n      <td>meat</td>\n    </tr>\n    <tr>\n      <th>5</th>\n      <td>tiger</td>\n      <td>1006</td>\n      <td>330</td>\n      <td>meat</td>\n    </tr>\n    <tr>\n      <th>6</th>\n      <td>tiger</td>\n      <td>1007</td>\n      <td>290</td>\n      <td>meat</td>\n    </tr>\n    <tr>\n      <th>7</th>\n      <td>tiger</td>\n      <td>1008</td>\n      <td>310</td>\n      <td>meat</td>\n    </tr>\n    <tr>\n      <th>8</th>\n      <td>zebra</td>\n      <td>1009</td>\n      <td>200</td>\n      <td>vegetables</td>\n    </tr>\n    <tr>\n      <th>9</th>\n      <td>zebra</td>\n      <td>1010</td>\n      <td>220</td>\n      <td>vegetables</td>\n    </tr>\n    <tr>\n      <th>10</th>\n      <td>zebra</td>\n      <td>1011</td>\n      <td>240</td>\n      <td>vegetables</td>\n    </tr>\n    <tr>\n      <th>11</th>\n      <td>zebra</td>\n      <td>1012</td>\n      <td>230</td>\n      <td>vegetables</td>\n    </tr>\n    <tr>\n      <th>12</th>\n      <td>zebra</td>\n      <td>1013</td>\n      <td>220</td>\n      <td>vegetables</td>\n    </tr>\n    <tr>\n      <th>13</th>\n      <td>zebra</td>\n      <td>1014</td>\n      <td>100</td>\n      <td>vegetables</td>\n    </tr>\n    <tr>\n      <th>14</th>\n      <td>zebra</td>\n      <td>1015</td>\n      <td>80</td>\n      <td>vegetables</td>\n    </tr>\n    <tr>\n      <th>15</th>\n      <td>lion</td>\n      <td>1016</td>\n      <td>420</td>\n      <td>NaN</td>\n    </tr>\n    <tr>\n      <th>16</th>\n      <td>lion</td>\n      <td>1017</td>\n      <td>600</td>\n      <td>NaN</td>\n    </tr>\n    <tr>\n      <th>17</th>\n      <td>lion</td>\n      <td>1018</td>\n      <td>500</td>\n      <td>NaN</td>\n    </tr>\n    <tr>\n      <th>18</th>\n      <td>lion</td>\n      <td>1019</td>\n      <td>390</td>\n      <td>NaN</td>\n    </tr>\n    <tr>\n      <th>19</th>\n      <td>kangaroo</td>\n      <td>1020</td>\n      <td>410</td>\n      <td>vegetables</td>\n    </tr>\n    <tr>\n      <th>20</th>\n      <td>kangaroo</td>\n      <td>1021</td>\n      <td>430</td>\n      <td>vegetables</td>\n    </tr>\n    <tr>\n      <th>21</th>\n      <td>kangaroo</td>\n      <td>1022</td>\n      <td>410</td>\n      <td>vegetables</td>\n    </tr>\n  </tbody>\n</table>\n</div>"
          },
          "metadata": {}
        }
      ],
      "execution_count": 44
    },
    {
      "id": "54bd0a7d-4401-4d6b-8a11-8569e7ef2bcf",
      "cell_type": "code",
      "source": "zoo.merge(zoo_eats, how = 'left').fillna('unknown')",
      "metadata": {
        "trusted": true
      },
      "outputs": [
        {
          "execution_count": 45,
          "output_type": "execute_result",
          "data": {
            "text/plain": "      animal  uniq_id  water_need        food\n0   elephant     1001         500  vegetables\n1   elephant     1002         600  vegetables\n2   elephant     1003         550  vegetables\n3      tiger     1004         300        meat\n4      tiger     1005         320        meat\n5      tiger     1006         330        meat\n6      tiger     1007         290        meat\n7      tiger     1008         310        meat\n8      zebra     1009         200  vegetables\n9      zebra     1010         220  vegetables\n10     zebra     1011         240  vegetables\n11     zebra     1012         230  vegetables\n12     zebra     1013         220  vegetables\n13     zebra     1014         100  vegetables\n14     zebra     1015          80  vegetables\n15      lion     1016         420     unknown\n16      lion     1017         600     unknown\n17      lion     1018         500     unknown\n18      lion     1019         390     unknown\n19  kangaroo     1020         410  vegetables\n20  kangaroo     1021         430  vegetables\n21  kangaroo     1022         410  vegetables",
            "text/html": "<div>\n<style scoped>\n    .dataframe tbody tr th:only-of-type {\n        vertical-align: middle;\n    }\n\n    .dataframe tbody tr th {\n        vertical-align: top;\n    }\n\n    .dataframe thead th {\n        text-align: right;\n    }\n</style>\n<table border=\"1\" class=\"dataframe\">\n  <thead>\n    <tr style=\"text-align: right;\">\n      <th></th>\n      <th>animal</th>\n      <th>uniq_id</th>\n      <th>water_need</th>\n      <th>food</th>\n    </tr>\n  </thead>\n  <tbody>\n    <tr>\n      <th>0</th>\n      <td>elephant</td>\n      <td>1001</td>\n      <td>500</td>\n      <td>vegetables</td>\n    </tr>\n    <tr>\n      <th>1</th>\n      <td>elephant</td>\n      <td>1002</td>\n      <td>600</td>\n      <td>vegetables</td>\n    </tr>\n    <tr>\n      <th>2</th>\n      <td>elephant</td>\n      <td>1003</td>\n      <td>550</td>\n      <td>vegetables</td>\n    </tr>\n    <tr>\n      <th>3</th>\n      <td>tiger</td>\n      <td>1004</td>\n      <td>300</td>\n      <td>meat</td>\n    </tr>\n    <tr>\n      <th>4</th>\n      <td>tiger</td>\n      <td>1005</td>\n      <td>320</td>\n      <td>meat</td>\n    </tr>\n    <tr>\n      <th>5</th>\n      <td>tiger</td>\n      <td>1006</td>\n      <td>330</td>\n      <td>meat</td>\n    </tr>\n    <tr>\n      <th>6</th>\n      <td>tiger</td>\n      <td>1007</td>\n      <td>290</td>\n      <td>meat</td>\n    </tr>\n    <tr>\n      <th>7</th>\n      <td>tiger</td>\n      <td>1008</td>\n      <td>310</td>\n      <td>meat</td>\n    </tr>\n    <tr>\n      <th>8</th>\n      <td>zebra</td>\n      <td>1009</td>\n      <td>200</td>\n      <td>vegetables</td>\n    </tr>\n    <tr>\n      <th>9</th>\n      <td>zebra</td>\n      <td>1010</td>\n      <td>220</td>\n      <td>vegetables</td>\n    </tr>\n    <tr>\n      <th>10</th>\n      <td>zebra</td>\n      <td>1011</td>\n      <td>240</td>\n      <td>vegetables</td>\n    </tr>\n    <tr>\n      <th>11</th>\n      <td>zebra</td>\n      <td>1012</td>\n      <td>230</td>\n      <td>vegetables</td>\n    </tr>\n    <tr>\n      <th>12</th>\n      <td>zebra</td>\n      <td>1013</td>\n      <td>220</td>\n      <td>vegetables</td>\n    </tr>\n    <tr>\n      <th>13</th>\n      <td>zebra</td>\n      <td>1014</td>\n      <td>100</td>\n      <td>vegetables</td>\n    </tr>\n    <tr>\n      <th>14</th>\n      <td>zebra</td>\n      <td>1015</td>\n      <td>80</td>\n      <td>vegetables</td>\n    </tr>\n    <tr>\n      <th>15</th>\n      <td>lion</td>\n      <td>1016</td>\n      <td>420</td>\n      <td>unknown</td>\n    </tr>\n    <tr>\n      <th>16</th>\n      <td>lion</td>\n      <td>1017</td>\n      <td>600</td>\n      <td>unknown</td>\n    </tr>\n    <tr>\n      <th>17</th>\n      <td>lion</td>\n      <td>1018</td>\n      <td>500</td>\n      <td>unknown</td>\n    </tr>\n    <tr>\n      <th>18</th>\n      <td>lion</td>\n      <td>1019</td>\n      <td>390</td>\n      <td>unknown</td>\n    </tr>\n    <tr>\n      <th>19</th>\n      <td>kangaroo</td>\n      <td>1020</td>\n      <td>410</td>\n      <td>vegetables</td>\n    </tr>\n    <tr>\n      <th>20</th>\n      <td>kangaroo</td>\n      <td>1021</td>\n      <td>430</td>\n      <td>vegetables</td>\n    </tr>\n    <tr>\n      <th>21</th>\n      <td>kangaroo</td>\n      <td>1022</td>\n      <td>410</td>\n      <td>vegetables</td>\n    </tr>\n  </tbody>\n</table>\n</div>"
          },
          "metadata": {}
        }
      ],
      "execution_count": 45
    },
    {
      "id": "a799f4b6-02ea-495d-97b7-f8f7b8566732",
      "cell_type": "code",
      "source": "",
      "metadata": {
        "trusted": true
      },
      "outputs": [],
      "execution_count": null
    }
  ]
}